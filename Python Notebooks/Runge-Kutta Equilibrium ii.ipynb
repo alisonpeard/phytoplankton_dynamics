{
 "cells": [
  {
   "cell_type": "code",
   "execution_count": 260,
   "metadata": {},
   "outputs": [],
   "source": [
    "import numpy as np\n",
    "import sympy as sym\n",
    "import matplotlib.pyplot as plt\n",
    "sym.init_printing(use_latex=\"mathjax\")\n",
    "# scipy.optimize.root"
   ]
  },
  {
   "cell_type": "markdown",
   "metadata": {},
   "source": [
    "Rb, Rd and I all blowing up/down at zmax or at 500 for all initial conditions"
   ]
  },
  {
   "cell_type": "code",
   "execution_count": 658,
   "metadata": {},
   "outputs": [
    {
     "data": {
      "text/latex": [
       "$$250.0$$"
      ],
      "text/plain": [
       "250.0"
      ]
     },
     "execution_count": 658,
     "metadata": {},
     "output_type": "execute_result"
    }
   ],
   "source": [
    "# all vars are automatically global in Python\n",
    "v=0.25\n",
    "lbg=0.1\n",
    "k=0.0003\n",
    "kbg=0.4\n",
    "I0=300\n",
    "mumax=1.2\n",
    "romax=0.2\n",
    "m=15\n",
    "qmax=0.04\n",
    "qmin=0.004\n",
    "h=120\n",
    "d=10\n",
    "\n",
    "N=10000\n",
    "zmax = 30\n",
    "z = np.linspace(0,zmax,N)    # (start,stop, number of nodes)\n",
    "\n",
    "Rb1_guess = A1_guess/350\n",
    "Rd1_guess = 30               # as specified\n",
    "A1_guess = 100\n",
    "\n",
    "A1,Rb1,Rd1 = sym.symbols('A1 Rb1 Rd1')\n",
    "\n",
    "1/qmin"
   ]
  },
  {
   "cell_type": "markdown",
   "metadata": {},
   "source": [
    "    * A1_guess = 250*Rb1_guess:   A is increasing\n",
    "    * A1_guess = 500*Rb1_guess:   A is decreasing\n",
    "    * A1_guess = 499*Rb1_guess:   A is increasing\n",
    "    * A1_guess = 499.9*Rb1_guess: A is up and down\n",
    "    * A1_guess = 499.5*Rb1_guess: RuntimeWarning: overflow encountered\n",
    "    \n",
    "Initially homogeneous vertical distributions of algal biomass and dissolved nutrients of 100 mg C m3 and 30 mg P m3, respectively.\n",
    "\n",
    "    * Rb1_guess = A1_guess/500 or /250 or /700:   A goes negative\n",
    "    \n",
    "    * Rb1_guess = A1_guess/300 => A1 and A2 increase but A1 still goes negative\n",
    "      Rd1_guess = 30               # as specified\n",
    "      A1_guess = 100\n",
    "      \n",
    "    * Rb1_guess = A1_guess/350 => satisfactory solutions\n",
    "      Rd1_guess = 30               # as specified\n",
    "      A1_guess = 100"
   ]
  },
  {
   "cell_type": "code",
   "execution_count": 659,
   "metadata": {},
   "outputs": [],
   "source": [
    "## functions\n",
    "def q(Rb, A): # don't need this\n",
    "    return Rb/A\n",
    "    \n",
    "# Specific algal growth rate p is an increasing, saturating function of light intensity I and algal nutrient quota q\n",
    "def p(I,q, mumax=mumax, qmin=qmin, h=h):\n",
    "    return mumax * (1 - qmin/q) * (I/(h + I))\n",
    "\n",
    "def ro(q, Rd, romax = romax, qmax = qmax, qmin=qmin, m=m):\n",
    "    return romax * (qmax-q)/(qmax-qmin) * ( Rd/(m + Rd) )"
   ]
  },
  {
   "cell_type": "code",
   "execution_count": 660,
   "metadata": {},
   "outputs": [],
   "source": [
    "def plankton_equations(y):\n",
    "    A1 = y[0]\n",
    "    A2 = y[1]\n",
    "    Rb1 = y[2]\n",
    "    Rb2 = y[3]\n",
    "    Rd1 = y[4]\n",
    "    Rd2 = y[5]\n",
    "    I = y[6]\n",
    "    q = Rb1/A1\n",
    "    \n",
    "    derivatives = np.array((A2,\n",
    "                     (v*A2 - p(I,q)*A1 + lbg*A1)/d,\n",
    "                     Rb2,\n",
    "                     (v*Rb2 - ro(q,Rd1)*A1 - lbg*Rb1)/d,\n",
    "                     Rd2,\n",
    "                     (ro(q,Rd1)*A1 - lbg*Rb1)/d,\n",
    "                     -(k*A1 + kbg)*I))\n",
    "    return derivatives\n",
    "\n",
    "initial_guess = np.array([A1_guess,\n",
    "                              v*A1_guess/d,\n",
    "                              Rb1_guess,\n",
    "                              v*Rb1_guess/d,\n",
    "                              Rd1_guess,\n",
    "                              0,\n",
    "                              I0])"
   ]
  },
  {
   "cell_type": "code",
   "execution_count": 661,
   "metadata": {},
   "outputs": [],
   "source": [
    "def one_step_rk4(f, xvinit, Tmax, N):\n",
    "    xv = xvinit                            # set first ROW to the initial conditions\n",
    "    h = Tmax / N                           # step size\n",
    "    k1 = f(xv)\n",
    "    k2 = f(xv + h/2.0*k1)\n",
    "    k3 = f(xv + h/2.0*k2)\n",
    "    k4 = f(xv + h*k3)\n",
    "    next_step = xv[0] + h/6.0 *( k1 + 2*k2 + 2*k3 + k4)\n",
    "    return next_step"
   ]
  },
  {
   "cell_type": "code",
   "execution_count": 662,
   "metadata": {},
   "outputs": [],
   "source": [
    "def rk4(f, xvinit, Tmax, N):               # N=number of steps\n",
    "    T = np.linspace(0, Tmax, N+1)\n",
    "    xv = np.zeros( (len(T), len(xvinit)) ) # matrix with # cols=# initial conditions\n",
    "    xv[0] = xvinit                         # set first ROW = initial conditions\n",
    "    h = Tmax / N                           # step size\n",
    "    for i in range(N):\n",
    "        k1 = f(xv[i])\n",
    "        k2 = f(xv[i] + h/2.0*k1)\n",
    "        k3 = f(xv[i] + h/2.0*k2)\n",
    "        k4 = f(xv[i] + h*k3)\n",
    "        xv[i+1] = xv[i] + h/6.0 *( k1 + 2*k2 + 2*k3 + k4)\n",
    "    return T, xv"
   ]
  },
  {
   "cell_type": "code",
   "execution_count": 663,
   "metadata": {},
   "outputs": [
    {
     "data": {
      "text/plain": [
       "array([100.30755197, 100.00174212, 100.30772348, 100.15138682,\n",
       "       100.30731913,  99.86514968,  99.87908786])"
      ]
     },
     "execution_count": 663,
     "metadata": {},
     "output_type": "execute_result"
    }
   ],
   "source": [
    "# Can see things blowing up immediately\n",
    "first_step = one_step_rk4(lambda x: plankton_equations(x), initial_guess, zmax, N)\n",
    "second_step = one_step_rk4(lambda x: plankton_equations(x), first_step, zmax, N)\n",
    "second_step"
   ]
  },
  {
   "cell_type": "code",
   "execution_count": 664,
   "metadata": {},
   "outputs": [
    {
     "data": {
      "text/plain": [
       "array([1.00000000e+02, 2.50000000e+00, 2.85714286e-01, 7.14285714e-03,\n",
       "       3.00000000e+01, 0.00000000e+00, 3.00000000e+02])"
      ]
     },
     "execution_count": 664,
     "metadata": {},
     "output_type": "execute_result"
    }
   ],
   "source": [
    "initial_guess"
   ]
  },
  {
   "cell_type": "code",
   "execution_count": 665,
   "metadata": {},
   "outputs": [
    {
     "data": {
      "text/plain": [
       "array([100.00752021, 100.01347259, 100.00001523,  99.99586467,\n",
       "       100.00000618, 100.00411857,  99.61324849])"
      ]
     },
     "execution_count": 665,
     "metadata": {},
     "output_type": "execute_result"
    }
   ],
   "source": [
    "first_step"
   ]
  },
  {
   "cell_type": "code",
   "execution_count": 666,
   "metadata": {},
   "outputs": [
    {
     "data": {
      "text/plain": [
       "array([100.30755197, 100.00174212, 100.30772348, 100.15138682,\n",
       "       100.30731913,  99.86514968,  99.87908786])"
      ]
     },
     "execution_count": 666,
     "metadata": {},
     "output_type": "execute_result"
    }
   ],
   "source": [
    "second_step"
   ]
  },
  {
   "cell_type": "code",
   "execution_count": 667,
   "metadata": {},
   "outputs": [],
   "source": [
    "z, derivs = rk4(lambda x: plankton_equations(x), initial_guess, zmax, N)"
   ]
  },
  {
   "cell_type": "code",
   "execution_count": 668,
   "metadata": {},
   "outputs": [
    {
     "data": {
      "text/plain": [
       "Text(0.5, 0, 'z')"
      ]
     },
     "execution_count": 668,
     "metadata": {},
     "output_type": "execute_result"
    },
    {
     "data": {
      "image/png": "[encoded data removed]",
      "text/plain": [
       "<Figure size 432x288 with 1 Axes>"
      ]
     },
     "metadata": {
      "needs_background": "light"
     },
     "output_type": "display_data"
    }
   ],
   "source": [
    "plt.plot(z,derivs[:,0])\n",
    "plt.title('A (Plankton) Equilibrium Value')\n",
    "plt.xlabel('z')"
   ]
  },
  {
   "cell_type": "code",
   "execution_count": 669,
   "metadata": {},
   "outputs": [
    {
     "data": {
      "text/plain": [
       "Text(0.5, 0, 'z')"
      ]
     },
     "execution_count": 669,
     "metadata": {},
     "output_type": "execute_result"
    },
    {
     "data": {
      "image/png": "[encoded data removed]",
      "text/plain": [
       "<Figure size 432x288 with 1 Axes>"
      ]
     },
     "metadata": {
      "needs_background": "light"
     },
     "output_type": "display_data"
    }
   ],
   "source": [
    "plt.plot(z,derivs[:,1])\n",
    "plt.title('A2 (Plankton) Equilibrium Value')\n",
    "plt.xlabel('z')"
   ]
  },
  {
   "cell_type": "code",
   "execution_count": 670,
   "metadata": {},
   "outputs": [
    {
     "data": {
      "text/plain": [
       "Text(0.5, 0, 'z')"
      ]
     },
     "execution_count": 670,
     "metadata": {},
     "output_type": "execute_result"
    },
    {
     "data": {
      "image/png": "[encoded data removed]",
      "text/plain": [
       "<Figure size 432x288 with 1 Axes>"
      ]
     },
     "metadata": {
      "needs_background": "light"
     },
     "output_type": "display_data"
    }
   ],
   "source": [
    "plt.plot(z,derivs[:,2])\n",
    "plt.title('Rb (Bound Nutrients) Equilibrium Value')\n",
    "plt.xlabel('z')"
   ]
  },
  {
   "cell_type": "code",
   "execution_count": 671,
   "metadata": {},
   "outputs": [
    {
     "data": {
      "text/plain": [
       "Text(0.5, 0, 'z')"
      ]
     },
     "execution_count": 671,
     "metadata": {},
     "output_type": "execute_result"
    },
    {
     "data": {
      "image/png": "[encoded data removed]",
      "text/plain": [
       "<Figure size 432x288 with 1 Axes>"
      ]
     },
     "metadata": {
      "needs_background": "light"
     },
     "output_type": "display_data"
    }
   ],
   "source": [
    "plt.plot(z,derivs[:,3])\n",
    "plt.title('dRb/dz Rate of Change of Equilibrium Value Bound Nutrients')\n",
    "plt.xlabel('z')"
   ]
  },
  {
   "cell_type": "code",
   "execution_count": 672,
   "metadata": {},
   "outputs": [
    {
     "data": {
      "text/plain": [
       "Text(0.5, 0, 'z')"
      ]
     },
     "execution_count": 672,
     "metadata": {},
     "output_type": "execute_result"
    },
    {
     "data": {
      "image/png": "[encoded data removed]",
      "text/plain": [
       "<Figure size 432x288 with 1 Axes>"
      ]
     },
     "metadata": {
      "needs_background": "light"
     },
     "output_type": "display_data"
    }
   ],
   "source": [
    "plt.plot(z,derivs[:,4])\n",
    "plt.title('Rd (Dissolved Nutrients) Equilibrium Value')\n",
    "plt.xlabel('z')"
   ]
  },
  {
   "cell_type": "code",
   "execution_count": 673,
   "metadata": {},
   "outputs": [
    {
     "data": {
      "text/plain": [
       "Text(0.5, 0, 'z')"
      ]
     },
     "execution_count": 673,
     "metadata": {},
     "output_type": "execute_result"
    },
    {
     "data": {
      "image/png": "[encoded data removed]",
      "text/plain": [
       "<Figure size 432x288 with 1 Axes>"
      ]
     },
     "metadata": {
      "needs_background": "light"
     },
     "output_type": "display_data"
    }
   ],
   "source": [
    "plt.plot(z,derivs[:,5])\n",
    "plt.title('dRd/dz - Rate of Change of Equilibrium Value of Dissolved Nutrients')\n",
    "plt.xlabel('z')"
   ]
  },
  {
   "cell_type": "code",
   "execution_count": 674,
   "metadata": {},
   "outputs": [
    {
     "data": {
      "text/plain": [
       "Text(0.5, 0, 'z')"
      ]
     },
     "execution_count": 674,
     "metadata": {},
     "output_type": "execute_result"
    },
    {
     "data": {
      "image/png": "[encoded data removed]",
      "text/plain": [
       "<Figure size 432x288 with 1 Axes>"
      ]
     },
     "metadata": {
      "needs_background": "light"
     },
     "output_type": "display_data"
    }
   ],
   "source": [
    "plt.plot(z,derivs[:,6])\n",
    "plt.title('I (Light Intensity) Equilibrium Position')\n",
    "plt.xlabel('z')"
   ]
  },
  {
   "cell_type": "code",
   "execution_count": null,
   "metadata": {},
   "outputs": [],
   "source": []
  },
  {
   "cell_type": "code",
   "execution_count": null,
   "metadata": {},
   "outputs": [],
   "source": []
  },
  {
   "cell_type": "code",
   "execution_count": null,
   "metadata": {},
   "outputs": [],
   "source": []
  }
 ],
 "metadata": {
  "kernelspec": {
   "display_name": "Python 3",
   "language": "python",
   "name": "python3"
  },
  "language_info": {
   "codemirror_mode": {
    "name": "ipython",
    "version": 3
   },
   "file_extension": ".py",
   "mimetype": "text/x-python",
   "name": "python",
   "nbconvert_exporter": "python",
   "pygments_lexer": "ipython3",
   "version": "3.7.3"
  }
 },
 "nbformat": 4,
 "nbformat_minor": 2
}
