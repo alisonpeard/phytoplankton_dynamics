{
 "cells": [
  {
   "cell_type": "code",
   "execution_count": 1,
   "metadata": {},
   "outputs": [],
   "source": [
    "import numpy as np\n",
    "import sympy as sym\n",
    "import matplotlib.pyplot as plt\n",
    "sym.init_printing(use_latex=\"mathjax\")"
   ]
  },
  {
   "cell_type": "markdown",
   "metadata": {},
   "source": [
    "Rb, Rd and I all blowing up/down at zmax or at 500 for all initial conditions"
   ]
  },
  {
   "cell_type": "code",
   "execution_count": 2,
   "metadata": {},
   "outputs": [],
   "source": [
    "# all vars are automatically global in python\n",
    "v=0.25\n",
    "lbg=0.1\n",
    "k=0.0003\n",
    "kbg=0.4\n",
    "I0=300\n",
    "mumax=1.2\n",
    "romax=0.2\n",
    "m=15\n",
    "qmax=0.04\n",
    "qmin=0.004\n",
    "h=120\n",
    "d=10\n",
    "\n",
    "N=500\n",
    "zmax = 500\n",
    "z = np.linspace(0,zmax,N) # (start,stop, number of nodes)\n",
    "\n",
    "A1_guess = 1000\n",
    "Rb1_guess = 1000\n",
    "Rd1_guess = 100\n",
    "\n",
    "A1,Rb1,Rd1 = sym.symbols('A1 Rb1 Rd1')"
   ]
  },
  {
   "cell_type": "code",
   "execution_count": 3,
   "metadata": {},
   "outputs": [],
   "source": [
    "# functions\n",
    "def q(Rb, A): # don't need this\n",
    "    return Rb/A\n",
    "    \n",
    "def p(I,q, mumax=mumax, qmin=qmin, h=h):\n",
    "    return mumax * (1 - qmin/q) * (I/(h + I))\n",
    "    \n",
    "def ro(q, Rd, romax = romax, qmax = qmax, qmin=qmin, m=m):\n",
    "    return romax * (qmax-q)/(qmax-qmin) * ( Rd/(m + Rd) )"
   ]
  },
  {
   "cell_type": "code",
   "execution_count": 4,
   "metadata": {},
   "outputs": [],
   "source": [
    "def plankton_equations(y):\n",
    "    A1 = y[0]\n",
    "    A2 = y[1]\n",
    "    Rb1 = y[2]\n",
    "    Rb2 = y[3]\n",
    "    Rd1 = y[4]\n",
    "    Rd2 = y[5]\n",
    "    I = y[6]\n",
    "    q = Rb1/A1\n",
    "    \n",
    "    derivatives = np.array((A2,\n",
    "                     (v*A2 - p(I,q)*A1 + lbg*A1)/d,\n",
    "                     Rb2,\n",
    "                     (v*Rb2 - ro(q,Rd1)*A1 - lbg*Rb1)/d,\n",
    "                     Rd2,\n",
    "                     (ro(q,Rd1)*A1 - lbg*Rb1)/d,\n",
    "                     (k*A1 + kbg)*I))\n",
    "    return derivatives\n",
    "\n",
    "initial_guess = np.array([A1_guess,\n",
    "                              v*A1_guess/d,\n",
    "                              Rb1_guess,\n",
    "                              v*Rb1_guess/d,\n",
    "                              Rd1_guess,\n",
    "                              0,\n",
    "                              I0])"
   ]
  },
  {
   "cell_type": "code",
   "execution_count": 5,
   "metadata": {},
   "outputs": [],
   "source": [
    "def one_step_rk4(f, xvinit, Tmax, N):\n",
    "    xv = xvinit                         # set first ROW to the initial conditions\n",
    "    h = Tmax / N                           # step size\n",
    "    k1 = f(xv)\n",
    "    k2 = f(xv + h/2.0*k1)\n",
    "    k3 = f(xv + h/2.0*k2)\n",
    "    k4 = f(xv + h*k3)\n",
    "    next_step = xv[0] + h/6.0 *( k1 + 2*k2 + 2*k3 + k4)\n",
    "    return next_step"
   ]
  },
  {
   "cell_type": "code",
   "execution_count": 6,
   "metadata": {},
   "outputs": [],
   "source": [
    "def rk4(f, xvinit, Tmax, N):               # N=number of steps\n",
    "    T = np.linspace(0, Tmax, N+1)\n",
    "    xv = np.zeros( (len(T), len(xvinit)) ) # matrix with # cols=# initial conditions\n",
    "    xv[0] = xvinit                         # set first ROW = initial conditions\n",
    "    h = Tmax / N                           # step size\n",
    "    for i in range(N):\n",
    "        k1 = f(xv[i])\n",
    "        k2 = f(xv[i] + h/2.0*k1)\n",
    "        k3 = f(xv[i] + h/2.0*k2)\n",
    "        k4 = f(xv[i] + h*k3)\n",
    "        xv[i+1] = xv[i] + h/6.0 *( k1 + 2*k2 + 2*k3 + k4)\n",
    "    return T, xv"
   ]
  },
  {
   "cell_type": "code",
   "execution_count": 18,
   "metadata": {},
   "outputs": [
    {
     "data": {
      "text/plain": [
       "array([1847.00838074,  859.53484137, 4143.04704902, 2716.87813502,\n",
       "       -168.38162729, -731.30030504, 2658.36394054])"
      ]
     },
     "execution_count": 18,
     "metadata": {},
     "output_type": "execute_result"
    }
   ],
   "source": [
    "# Can see things blowing up immediately\n",
    "first_step = one_step_rk4(lambda x: plankton_equations(x), initial_guess, zmax, N)\n",
    "second_step = one_step_rk4(lambda x: plankton_equations(x), first_step, zmax, N)\n",
    "second_step"
   ]
  },
  {
   "cell_type": "code",
   "execution_count": 8,
   "metadata": {},
   "outputs": [
    {
     "data": {
      "text/plain": [
       "array([1000.,   25., 1000.,   25.,  100.,    0.,  300.])"
      ]
     },
     "execution_count": 8,
     "metadata": {},
     "output_type": "execute_result"
    }
   ],
   "source": [
    "initial_guess"
   ]
  },
  {
   "cell_type": "code",
   "execution_count": 9,
   "metadata": {},
   "outputs": [
    {
     "data": {
      "text/plain": [
       "array([ 984.62487786,  916.72452355, 1716.49161869, 2445.09639871,\n",
       "        300.27584173, -448.96767198, 1303.51656126])"
      ]
     },
     "execution_count": 9,
     "metadata": {},
     "output_type": "execute_result"
    }
   ],
   "source": [
    "first_step"
   ]
  },
  {
   "cell_type": "code",
   "execution_count": 10,
   "metadata": {},
   "outputs": [
    {
     "data": {
      "text/plain": [
       "array([1847.00838074,  859.53484137, 4143.04704902, 2716.87813502,\n",
       "       -168.38162729, -731.30030504, 2658.36394054])"
      ]
     },
     "execution_count": 10,
     "metadata": {},
     "output_type": "execute_result"
    }
   ],
   "source": [
    "second_step"
   ]
  },
  {
   "cell_type": "code",
   "execution_count": 11,
   "metadata": {},
   "outputs": [
    {
     "name": "stderr",
     "output_type": "stream",
     "text": [
      "/anaconda3/lib/python3.7/site-packages/ipykernel_launcher.py:17: RuntimeWarning: overflow encountered in double_scalars\n",
      "/anaconda3/lib/python3.7/site-packages/ipykernel_launcher.py:6: RuntimeWarning: invalid value encountered in double_scalars\n",
      "  \n"
     ]
    }
   ],
   "source": [
    "z, derivs = rk4(lambda x: plankton_equations(x), initial_guess, zmax, N)"
   ]
  },
  {
   "cell_type": "code",
   "execution_count": 12,
   "metadata": {},
   "outputs": [
    {
     "data": {
      "text/plain": [
       "Text(0.5, 0, 'z')"
      ]
     },
     "execution_count": 12,
     "metadata": {},
     "output_type": "execute_result"
    },
    {
     "data": {
      "image/png": "[encoded data removed]",
      "text/plain": [
       "<Figure size 432x288 with 1 Axes>"
      ]
     },
     "metadata": {
      "needs_background": "light"
     },
     "output_type": "display_data"
    }
   ],
   "source": [
    "plt.plot(z,derivs[:,0])\n",
    "plt.title('A (Plankton) Equilibrium Position')\n",
    "plt.xlabel('z')"
   ]
  },
  {
   "cell_type": "code",
   "execution_count": 13,
   "metadata": {},
   "outputs": [
    {
     "data": {
      "text/plain": [
       "Text(0.5, 0, 'z')"
      ]
     },
     "execution_count": 13,
     "metadata": {},
     "output_type": "execute_result"
    },
    {
     "data": {
      "image/png": "[encoded data removed]",
      "text/plain": [
       "<Figure size 432x288 with 1 Axes>"
      ]
     },
     "metadata": {
      "needs_background": "light"
     },
     "output_type": "display_data"
    }
   ],
   "source": [
    "plt.plot(z,derivs[:,2])\n",
    "plt.title('Rb (Bound Nutrients) Equilibrium Position')\n",
    "plt.xlabel('z')"
   ]
  },
  {
   "cell_type": "code",
   "execution_count": 14,
   "metadata": {},
   "outputs": [
    {
     "data": {
      "text/plain": [
       "Text(0.5, 0, 'z')"
      ]
     },
     "execution_count": 14,
     "metadata": {},
     "output_type": "execute_result"
    },
    {
     "data": {
      "image/png": "[encoded data removed]",
      "text/plain": [
       "<Figure size 432x288 with 1 Axes>"
      ]
     },
     "metadata": {
      "needs_background": "light"
     },
     "output_type": "display_data"
    }
   ],
   "source": [
    "plt.plot(z,derivs[:,3])\n",
    "plt.title('dRb/dz Rate of Change of Equilibrium Position Bound Nutrients')\n",
    "plt.xlabel('z')"
   ]
  },
  {
   "cell_type": "code",
   "execution_count": 15,
   "metadata": {},
   "outputs": [
    {
     "data": {
      "text/plain": [
       "Text(0.5, 0, 'z')"
      ]
     },
     "execution_count": 15,
     "metadata": {},
     "output_type": "execute_result"
    },
    {
     "data": {
      "image/png": "[encoded data removed]",
      "text/plain": [
       "<Figure size 432x288 with 1 Axes>"
      ]
     },
     "metadata": {
      "needs_background": "light"
     },
     "output_type": "display_data"
    }
   ],
   "source": [
    "plt.plot(z,derivs[:,4])\n",
    "plt.title('Rd (Dissolved Nutrients) Equilibrium Position')\n",
    "plt.xlabel('z')"
   ]
  },
  {
   "cell_type": "code",
   "execution_count": 16,
   "metadata": {},
   "outputs": [
    {
     "data": {
      "text/plain": [
       "Text(0.5, 0, 'z')"
      ]
     },
     "execution_count": 16,
     "metadata": {},
     "output_type": "execute_result"
    },
    {
     "data": {
      "image/png": "[encoded data removed]",
      "text/plain": [
       "<Figure size 432x288 with 1 Axes>"
      ]
     },
     "metadata": {
      "needs_background": "light"
     },
     "output_type": "display_data"
    }
   ],
   "source": [
    "plt.plot(z,derivs[:,5])\n",
    "plt.title('dRd/dz - Rate of Change of Equilibrium Position of Dissolved Nutrients')\n",
    "plt.xlabel('z')"
   ]
  },
  {
   "cell_type": "code",
   "execution_count": 17,
   "metadata": {},
   "outputs": [
    {
     "data": {
      "text/plain": [
       "Text(0.5, 0, 'z')"
      ]
     },
     "execution_count": 17,
     "metadata": {},
     "output_type": "execute_result"
    },
    {
     "data": {
      "image/png": "[encoded data removed]",
      "text/plain": [
       "<Figure size 432x288 with 1 Axes>"
      ]
     },
     "metadata": {
      "needs_background": "light"
     },
     "output_type": "display_data"
    }
   ],
   "source": [
    "plt.plot(z,derivs[:,6])\n",
    "plt.title('I (Light Intensity) Equilibrium Position')\n",
    "plt.xlabel('z')"
   ]
  },
  {
   "cell_type": "code",
   "execution_count": null,
   "metadata": {},
   "outputs": [],
   "source": []
  },
  {
   "cell_type": "code",
   "execution_count": null,
   "metadata": {},
   "outputs": [],
   "source": []
  }
 ],
 "metadata": {
  "kernelspec": {
   "display_name": "Python 3",
   "language": "python",
   "name": "python3"
  },
  "language_info": {
   "codemirror_mode": {
    "name": "ipython",
    "version": 3
   },
   "file_extension": ".py",
   "mimetype": "text/x-python",
   "name": "python",
   "nbconvert_exporter": "python",
   "pygments_lexer": "ipython3",
   "version": "3.7.3"
  }
 },
 "nbformat": 4,
 "nbformat_minor": 2
}
