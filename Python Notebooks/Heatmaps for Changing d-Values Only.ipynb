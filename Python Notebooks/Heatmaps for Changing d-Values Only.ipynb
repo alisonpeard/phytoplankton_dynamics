{
 "cells": [
  {
   "cell_type": "code",
   "execution_count": 16,
   "metadata": {},
   "outputs": [],
   "source": [
    "import numpy as np\n",
    "import pandas as pd\n",
    "import matplotlib.pyplot as plt\n",
    "from my_equations import get_stationary"
   ]
  },
  {
   "cell_type": "markdown",
   "metadata": {},
   "source": [
    "# Notes\n",
    "* Worked for all d-values except 1.1(?) for dz=1.0\n",
    "* Stopped at d=3 last time for old functions so see now"
   ]
  },
  {
   "cell_type": "code",
   "execution_count": 19,
   "metadata": {},
   "outputs": [],
   "source": [
    "I_0 = 300.0\n",
    "\n",
    "tmax = 200\n",
    "\n",
    "zmax=30\n",
    "dz=0.1\n",
    "z_grid = np.arange(0,zmax,dz) # make sure get_stationary has dz=0.1\n",
    "Nz=len(z_grid)\n",
    "\n",
    "dmax = 10\n",
    "dmin = 0.1\n",
    "dstep = 0.5\n",
    "drange=dmax-dmin\n",
    "d_vals=np.arange(dmin,dmax,dstep)\n",
    "Nd = len(d_vals)"
   ]
  },
  {
   "cell_type": "code",
   "execution_count": 20,
   "metadata": {},
   "outputs": [
    {
     "data": {
      "text/plain": [
       "(20,)"
      ]
     },
     "execution_count": 20,
     "metadata": {},
     "output_type": "execute_result"
    }
   ],
   "source": [
    "d_vals.shape"
   ]
  },
  {
   "cell_type": "code",
   "execution_count": 21,
   "metadata": {},
   "outputs": [],
   "source": [
    "stationary_A = np.zeros((Nz,Nd)) \n",
    "stationary_Rb = np.zeros((Nz,Nd))\n",
    "stationary_Rd = np.zeros((Nz,Nd))\n",
    "stationary_Rs = np.zeros(Nd)"
   ]
  },
  {
   "cell_type": "code",
   "execution_count": null,
   "metadata": {},
   "outputs": [
    {
     "data": {
      "application/vnd.jupyter.widget-view+json": {
       "model_id": "f87e402897d84dcf8104c7cd57641a05",
       "version_major": 2,
       "version_minor": 0
      },
      "text/plain": [
       "VBox(children=(HTML(value=''), IntProgress(value=0, max=20)))"
      ]
     },
     "metadata": {},
     "output_type": "display_data"
    },
    {
     "name": "stdout",
     "output_type": "stream",
     "text": [
      "0.1\n",
      "0.6\n",
      "1.1\n",
      "1.6\n",
      "2.1\n",
      "2.6\n",
      "3.1\n",
      "3.6\n",
      "4.1\n",
      "4.6\n",
      "5.1\n",
      "5.6\n",
      "6.1\n",
      "6.6\n",
      "7.1\n",
      "7.6\n"
     ]
    }
   ],
   "source": [
    "# https://github.com/kuk/log-progress/blob/master/README.md progress bar\n",
    "i=0\n",
    "import progress_bar\n",
    "for d in progress_bar.log_progress(d_vals, every=1):\n",
    "    print(d)\n",
    "    stationary_A[:,i], stationary_Rb[:,i], stationary_Rd[:,i], stationary_Rs[i] = get_stationary(zmax=zmax,tmax=tmax, d=d, I0=I_0, dz=dz)\n",
    "    i += 1"
   ]
  },
  {
   "cell_type": "code",
   "execution_count": null,
   "metadata": {},
   "outputs": [],
   "source": [
    "# Heatmap\n",
    "plt.imshow(stationary_A[:,:],aspect=d/zmax,origin=\"lower\",extent=(dmin,d,0,zmax))\n",
    "plt.xlabel('d-values')\n",
    "plt.ylabel('stationary distribution for A')\n",
    "plt.title('stationary distribution of A for different d-values')\n",
    "plt.gca().invert_yaxis()\n",
    "plt.colorbar()"
   ]
  },
  {
   "cell_type": "code",
   "execution_count": null,
   "metadata": {},
   "outputs": [],
   "source": [
    "%matplotlib notebook\n",
    "from mpl_toolkits.mplot3d import axes3d\n",
    "\n",
    "D,Z = np.meshgrid(d_vals,z_grid)\n",
    "\n",
    "fig = plt.figure(figsize=(6,6))\n",
    "ax = fig.add_subplot(111, projection='3d')\n",
    "ax.plot_surface(D,Z, stationary_A, cmap='cool')\n",
    "ax.set_xlabel('value of d')\n",
    "ax.set_ylabel('z (meters)')\n",
    "ax.set_zlabel('C')\n",
    "ax.set_title('A - plankton')"
   ]
  },
  {
   "cell_type": "code",
   "execution_count": 17,
   "metadata": {},
   "outputs": [],
   "source": [
    "# save everything to results dataframes to save repeating\n",
    "pd.DataFrame(stationary_A).to_csv(\"A_dz1.csv\")\n",
    "pd.DataFrame(stationary_Rb).to_csv(\"Rb_dz1.csv\")\n",
    "pd.DataFrame(stationary_Rd).to_csv(\"Rd_dz1.csv\")\n",
    "pd.DataFrame(stationary_Rs).to_csv(\"Rs_dz1.csv\")"
   ]
  },
  {
   "cell_type": "code",
   "execution_count": null,
   "metadata": {},
   "outputs": [],
   "source": []
  }
 ],
 "metadata": {
  "kernelspec": {
   "display_name": "Python 3",
   "language": "python",
   "name": "python3"
  },
  "language_info": {
   "codemirror_mode": {
    "name": "ipython",
    "version": 3
   },
   "file_extension": ".py",
   "mimetype": "text/x-python",
   "name": "python",
   "nbconvert_exporter": "python",
   "pygments_lexer": "ipython3",
   "version": "3.7.3"
  }
 },
 "nbformat": 4,
 "nbformat_minor": 2
}
