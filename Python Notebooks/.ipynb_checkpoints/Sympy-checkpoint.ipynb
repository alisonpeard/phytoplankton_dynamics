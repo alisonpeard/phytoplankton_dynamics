{
 "cells": [
  {
   "cell_type": "code",
   "execution_count": 11,
   "metadata": {},
   "outputs": [],
   "source": [
    "import numpy as np\n",
    "import sympy as sym\n",
    "sym.init_printing(use_latex=\"mathjax\")"
   ]
  },
  {
   "cell_type": "code",
   "execution_count": 5,
   "metadata": {},
   "outputs": [],
   "source": [
    "# all vars are automatically global in python\n",
    "v=0.25\n",
    "lbg=0.1\n",
    "k=0.0003\n",
    "kbg=0.4\n",
    "I0=300\n",
    "mumax=1.2\n",
    "romax=0.2\n",
    "m=15\n",
    "qmax=0.04\n",
    "qmin=0.004\n",
    "h=120\n",
    "d=10\n",
    "\n",
    "zmax = 30\n",
    "z = np.linspace(0,zmax,100) # (start,stop, number of nodes)\n",
    "\n",
    "A1,A2,Rb1,Rb2,Rd1,Rd2,I = sym.symbols('A1 A2 Rb1 Rb2 Rd1 Rd2 I')"
   ]
  },
  {
   "cell_type": "code",
   "execution_count": 3,
   "metadata": {},
   "outputs": [],
   "source": [
    "# functions\n",
    "def q(Rb, A):\n",
    "    return Rb/A\n",
    "    \n",
    "def p(I,Rb,A, mumax=mumax, qmin=qmin, h=h):\n",
    "    return mumax * (1 - qmin/q(Rb,A)) * (I/(h + I))\n",
    "    \n",
    "def ro(Rb,A, Rd, romax = romax, qmax = qmax, qmin=qmin, m=m):\n",
    "    return romax * (qmax-q(Rb,A))/(qmax-qmin) * Rd/(m + Rd)"
   ]
  },
  {
   "cell_type": "code",
   "execution_count": 16,
   "metadata": {},
   "outputs": [],
   "source": [
    "# testing\n",
    "A1_prime = A2\n",
    "A2_prime = (v*A2 - p(I,Rb1,A1)*A1 + lbg*A1)/d\n",
    "Rb1_prime = Rb2\n",
    "Rb2_prime = (v*Rb2 - ro(Rb1,A1,Rd1)*A1 - lbg*Rb1)/d\n",
    "Rd1_prime = Rd2\n",
    "Rd2_prime = (ro(Rb1,A1,Rd1)*A1 - lbg*Rb1)/d\n",
    "I_prime = (k*A1 + kbg)*I"
   ]
  },
  {
   "cell_type": "code",
   "execution_count": 22,
   "metadata": {},
   "outputs": [],
   "source": [
    "#np.vstack([A1_prime, A2_prime, Rb1_prime, Rb2_prime, Rd1_prime, Rd2_prime, I_prime])"
   ]
  },
  {
   "cell_type": "code",
   "execution_count": 24,
   "metadata": {},
   "outputs": [
    {
     "data": {
      "text/plain": [
       "array([[0., 0., 0., 0.],\n",
       "       [0., 0., 0., 0.]])"
      ]
     },
     "execution_count": 24,
     "metadata": {},
     "output_type": "execute_result"
    }
   ],
   "source": [
    "np.zeros( (2, 4) )"
   ]
  },
  {
   "cell_type": "code",
   "execution_count": null,
   "metadata": {},
   "outputs": [],
   "source": [
    "def rk4(f, xvinit, Tmax, N):               # N=number of steps\n",
    "    T = np.linspace(0, Tmax, N+1)\n",
    "    xv = np.zeros( (len(T), len(xvinit)) ) # matrix with #cols=#initial conditions\n",
    "    xv[0] = xvinit                         # set first ROW = initial conditions\n",
    "    h = Tmax / N                           # step size\n",
    "    for i in range(N):\n",
    "        k1 = f(xv[i])\n",
    "        k2 = f(xv[i] + h/2.0*k1)\n",
    "        k3 = f(xv[i] + h/2.0*k2)\n",
    "        k4 = f(xv[i] + h*k3)\n",
    "        xv[i+1] = xv[i] + h/6.0 *( k1 + 2*k2 + 2*k3 + k4)\n",
    "    return T, xv"
   ]
  }
 ],
 "metadata": {
  "kernelspec": {
   "display_name": "Python 3",
   "language": "python",
   "name": "python3"
  },
  "language_info": {
   "codemirror_mode": {
    "name": "ipython",
    "version": 3
   },
   "file_extension": ".py",
   "mimetype": "text/x-python",
   "name": "python",
   "nbconvert_exporter": "python",
   "pygments_lexer": "ipython3",
   "version": "3.7.3"
  }
 },
 "nbformat": 4,
 "nbformat_minor": 2
}
