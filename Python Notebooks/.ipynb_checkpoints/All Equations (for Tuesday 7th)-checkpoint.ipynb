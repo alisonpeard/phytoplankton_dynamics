{
 "cells": [
  {
   "cell_type": "code",
   "execution_count": 1,
   "metadata": {},
   "outputs": [],
   "source": [
    "import numpy as np\n",
    "import pandas as pd\n",
    "import matplotlib.pyplot as plt\n",
    "from mpl_toolkits.mplot3d import axes3d #unsure if needed\n",
    "\n",
    "# suppress scientific notation for now\n",
    "np.set_printoptions(suppress=True)\n",
    "pd.options.display.float_format = '{:.4f}'.format\n",
    "#%matplotlib notebook\n",
    "# makes it way slower"
   ]
  },
  {
   "cell_type": "code",
   "execution_count": 12,
   "metadata": {},
   "outputs": [],
   "source": [
    "# define default coefficients\n",
    "v= 0.25 # drift term\n",
    "d= 10.0 # diffusion term\n",
    "lbg=0.1 # Specific algal maintenance respiration losses\n",
    "mumax=1.2\n",
    "rhomax=0.2\n",
    "qmax=0.04\n",
    "qmin=0.004\n",
    "m=15.0\n",
    "h=120.0\n",
    "I0 = 300\n",
    "kbg=0.4\n",
    "\n",
    "def rnorm(mu,sigma,z):\n",
    "    \"\"\"create normal hump around mu over z, of std. dev. sigma\"\"\"\n",
    "    return np.exp( -(z-mu)**2/(2*sigma**2) )/ np.sqrt(2*np.pi*sigma**2)\n"
   ]
  },
  {
   "cell_type": "code",
   "execution_count": 13,
   "metadata": {},
   "outputs": [],
   "source": [
    "def I(z,A,I_0=I0,k = 0.0003):\n",
    "    \"\"\"Function to plot I using array A[:,i], default k=0.0003, larger values of k make effect of A on I more apparent\"\"\"\n",
    "    integral = np.zeros(len(z))\n",
    "    integral[1:] = np.cumsum(k*A[1:]) \n",
    "    return I_0 * np.exp( -integral - kbg*z)"
   ]
  },
  {
   "cell_type": "code",
   "execution_count": 14,
   "metadata": {},
   "outputs": [],
   "source": [
    "def p(I,q):\n",
    "    return mumax * (1.0 - qmin/q) * (I/(h + I))\n",
    "\n",
    "def rho(q, Rd):\n",
    "    return rhomax * (qmax-q)/(qmax-qmin) * ( Rd/(m + Rd) )"
   ]
  },
  {
   "cell_type": "code",
   "execution_count": 15,
   "metadata": {},
   "outputs": [],
   "source": [
    "def next_step(z,A, Rd, Rb):\n",
    "    \"\"\"Calculates next step for input arrays of length zmax\"\"\"\n",
    "    \n",
    "    II = I(z,A)\n",
    "    q = Rb[1:-1]/A[1:-1]\n",
    "    pp = p(II[1:-1],q)\n",
    "    rrho = rho(q,Rd[1:-1])\n",
    "    \n",
    "    A_next = np.zeros(len(A))\n",
    "    Rb_next = np.zeros(len(Rb))\n",
    "    Rd_next = np.zeros(len(Rd))\n",
    "    \n",
    "    \n",
    "    A_drift = v * (A[2:]-A[:-2]) / (2*dz)\n",
    "    A_diffusion = d * (A[2:]-2*A[1:-1] + A[:-2]) / (dz**2)\n",
    "    Rb_drift = v * (Rb[2:]-Rb[:-2]) / (2*dz)\n",
    "    Rb_diffusion = d * (Rb[2:]-2*Rb[1:-1] + Rb[:-2]) / (dz**2)\n",
    "    Rd_diffusion = d * (Rd[2:]-2*Rd[1:-1] + Rd[:-2]) / (dz**2)\n",
    "    \n",
    "    A_next[1:-1] = A[1:-1] + dt * ( pp*A[1:-1] -lbg*A[1:-1] - A_drift + A_diffusion )\n",
    "    A_next[0] = 4*d/(2*v*dz + 3*d)*A_next[1] - d/(2*v*dz + 3*d)*A_next[2] \n",
    "    A_next[-1] = (4*A_next[-2] - A_next[-3])/3\n",
    "    \n",
    "    Rb_next[1:-1] = Rb[1:-1] + dt * (rrho*A[1:-1] -lbg*Rb[1:-1] - Rb_drift + Rb_diffusion )\n",
    "    Rb_next[0] = 4*d/(2*v*dz + 3*d)*Rb_next[1] - d/(2*v*dz + 3*d)*Rb_next[2] \n",
    "    Rb_next[-1] = (4*Rb_next[-2] - Rb_next[-3])/3\n",
    "    \n",
    "    Rd_next[1:-1] = Rd[1:-1] + dt*(lbg*Rb[1:-1] -rrho*A[1:-1] + Rd_diffusion)\n",
    "    Rd_next[0] = (4*Rd_next[1] - Rd_next[2])/3 \n",
    "    Rd_next[-1] = ( 4*d*Rd_next[-1] - d*Rd_next[-2] + v*dz*Rb_next[-1] ) / (3*d)\n",
    "    \n",
    "    return A_next, Rd_next, Rb_next"
   ]
  },
  {
   "cell_type": "code",
   "execution_count": 20,
   "metadata": {},
   "outputs": [],
   "source": [
    "zmax = 10.0 # meters\n",
    "tmax = 60.0 # days\n",
    "dz = 0.1\n",
    "dt = dz**2/60 # temporary \n",
    "Nz = int(zmax/dz)\n",
    "Nt = int(tmax/dt)\n",
    "\n",
    "z_grid = np.arange(0,zmax,dz)\n",
    "time_steps = np.arange(0,tmax,dt)\n",
    "\n",
    "peak_location = zmax/4.0\n",
    "\n",
    "A_0 = 1000 # scales the hump\n",
    "A = np.zeros((Nz,Nt)) # RESULTS MATRIX: rows: deeper z-values, cols: time steps forward\n",
    "A[:,0] = A_0 * rnorm(peak_location,1,z_grid)\n",
    "\n",
    "Rb_0 = 80\n",
    "Rb = np.zeros((Nz,Nt)) # RESULTS MATRIX rows: deeper z-values, cols: time steps forward\n",
    "Rb[:,0] = Rb_0 * rnorm(peak_location,1,z_grid)\n",
    "\n",
    "Rd_0 = 40 # scales the hump\n",
    "Rd = np.zeros((Nz,Nt)) # RESULTS MATRIX, rows: deeper z-values, cols: time steps forward\n",
    "Rd[:,0] = Rd_0 * rnorm(peak_location,1,z_grid)"
   ]
  },
  {
   "cell_type": "code",
   "execution_count": 21,
   "metadata": {},
   "outputs": [
    {
     "data": {
      "text/plain": [
       "array([     0,  71999, 143999, 215999, 287999, 359999])"
      ]
     },
     "execution_count": 21,
     "metadata": {},
     "output_type": "execute_result"
    }
   ],
   "source": [
    "# to use for plotting A over time\n",
    "fractions = np.array([0,1,2,3,4,5])/5\n",
    "steps = Nt*fractions\n",
    "steps = steps.astype(int)\n",
    "steps"
   ]
  },
  {
   "cell_type": "code",
   "execution_count": null,
   "metadata": {},
   "outputs": [],
   "source": [
    "d = 0.05 # diffusion term\n",
    "\n",
    "i = 1\n",
    "for t in time_steps[:-2]:\n",
    "    A[:,i],Rd[:,i],Rb[:,i] = next_step(z_grid,A[:,i-1],Rd[:,i-1],Rb[:,i-1])\n",
    "    i = i+1\n",
    "\n",
    "T,Z = np.meshgrid(time_steps[:-1],z_grid)\n",
    "\n",
    "fig = plt.figure(figsize=(6,6))\n",
    "ax = fig.add_subplot(111, projection='3d')\n",
    "ax.plot_surface(T,Z, A,cmap='cool')\n",
    "ax.set_xlabel('time (days)')\n",
    "ax.set_ylabel('z (meters)')\n",
    "ax.set_zlabel('C')\n",
    "ax.set_title('A - Phytoplankton')"
   ]
  },
  {
   "cell_type": "code",
   "execution_count": null,
   "metadata": {},
   "outputs": [],
   "source": [
    "plt.plot(z_grid,A[:,steps[5]-1])"
   ]
  },
  {
   "cell_type": "markdown",
   "metadata": {},
   "source": [
    "[link to some results for zmax=10](https://docs.google.com/document/d/1POVHeioH5Hxn5Z6kMn3Pn7SVLBypnAmwy5iTJadKIxo/edit?usp=sharing)"
   ]
  },
  {
   "cell_type": "code",
   "execution_count": null,
   "metadata": {},
   "outputs": [],
   "source": []
  }
 ],
 "metadata": {
  "kernelspec": {
   "display_name": "Python 3",
   "language": "python",
   "name": "python3"
  },
  "language_info": {
   "codemirror_mode": {
    "name": "ipython",
    "version": 3
   },
   "file_extension": ".py",
   "mimetype": "text/x-python",
   "name": "python",
   "nbconvert_exporter": "python",
   "pygments_lexer": "ipython3",
   "version": "3.7.3"
  }
 },
 "nbformat": 4,
 "nbformat_minor": 2
}
