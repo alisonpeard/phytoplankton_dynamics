{
 "cells": [
  {
   "cell_type": "code",
   "execution_count": 4,
   "metadata": {},
   "outputs": [],
   "source": [
    "import numpy as np\n",
    "from scipy.integrate import solve_bvp\n",
    "import matplotlib.pyplot as plt"
   ]
  },
  {
   "cell_type": "markdown",
   "metadata": {},
   "source": [
    "https://docs.scipy.org/doc/scipy-0.18.1/reference/generated/scipy.integrate.solve_bvp.html"
   ]
  },
  {
   "cell_type": "code",
   "execution_count": 5,
   "metadata": {},
   "outputs": [],
   "source": [
    "# all vars are automatically global in python\n",
    "v=0.25\n",
    "lbg=0.1\n",
    "k=0.0003\n",
    "kbg=0.4\n",
    "I0=300\n",
    "mumax=1.2\n",
    "romax=0.2\n",
    "m=15\n",
    "qmax=0.04\n",
    "qmin=0.004\n",
    "h=120\n",
    "d=10\n",
    "\n",
    "zmax = 30\n",
    "z = np.linspace(0,zmax,100) # (start,stop, number of nodes)"
   ]
  },
  {
   "cell_type": "code",
   "execution_count": 6,
   "metadata": {},
   "outputs": [],
   "source": [
    "# functions\n",
    "def q(Rb, A):\n",
    "    return Rb/A\n",
    "    \n",
    "def p(I,q, mumax=mumax, qmin=qmin, h=h):\n",
    "    return mumax * (1 - qmin/q) * (I/(h + I))\n",
    "    \n",
    "def ro(q, Rd, romax = romax, qmax = qmax, qmin=qmin, m=m):\n",
    "    return romax * (qmax-q)/(qmax-qmin) * Rd/(m + Rd)"
   ]
  },
  {
   "cell_type": "code",
   "execution_count": 7,
   "metadata": {},
   "outputs": [],
   "source": [
    "def plankton_equations(z, y):\n",
    "    A1 = y[0]\n",
    "    A2 = y[1]\n",
    "    Rb1 = y[2]\n",
    "    Rb2 = y[3]\n",
    "    Rd1 = y[4]\n",
    "    Rd2 = y[5]\n",
    "    I = y[6]\n",
    "    q = Rb1/A1\n",
    "    \n",
    "    derivatives = np.vstack((A2,\n",
    "                     (v*A2 - p(I,q)*A1 + lbg*A1)/d,\n",
    "                     Rb2,\n",
    "                     (v*Rb2 - ro(q,Rd1)*A1 - lbg*Rb1)/d,\n",
    "                     Rd2,\n",
    "                     (ro(q,Rd1)*A1 - lbg*Rb1)/d,\n",
    "                     (k*A1 + kbg)*I))\n",
    "    return derivatives"
   ]
  },
  {
   "cell_type": "code",
   "execution_count": 8,
   "metadata": {},
   "outputs": [],
   "source": [
    " def bc(z_0, z_max):\n",
    "    A1_0=z_0[0]\n",
    "    A2_0=z_0[1]\n",
    "    Rb1_0=z_0[2]\n",
    "    Rb2_0=z_0[3]\n",
    "    Rd1_0=z_0[4]\n",
    "    Rd2_0=z_0[5]\n",
    "    I_0=z_0[6]\n",
    "    A2_m=z_max[2]\n",
    "    Rb1_m=z_max[3]\n",
    "    Rb2_m=z_max[4]\n",
    "    Rd2_m=z_max[6]\n",
    "    \n",
    "    # creates vector res of all things that should equal zero\n",
    "    res = np.array([I_0 - I0,\n",
    "                    v*A1_0 - d*A2_0,\n",
    "                    v*Rb1_0 - d*Rb2_0,\n",
    "                    Rd2_0,\n",
    "                    A2_m,\n",
    "                    Rb2_m,\n",
    "                    d*Rd2_m - v*Rb1_m])\n",
    "    return res"
   ]
  },
  {
   "cell_type": "code",
   "execution_count": null,
   "metadata": {},
   "outputs": [],
   "source": [
    "def initial_conditions(initial_guess): # z should NOT be input here - but what is?\n",
    "    #z_0 = vector\n",
    "    A1=z_0[0]\n",
    "    A2=z_0[1]\n",
    "    Rb1=z_0[2]\n",
    "    Rb2=z_0[3]\n",
    "    Rd1=z_0[4]\n",
    "    Rd2=z_0[5]\n",
    "    I=z_0[6]\n",
    "    \n",
    "    inital_values = np.array([(d/v)*A2,\n",
    "                              (v/d)*A1,\n",
    "                              (d/v)*Rb2,\n",
    "                              (v/d)*Rb1,\n",
    "                              initial_guess,\n",
    "                              0,\n",
    "                              I0])\n",
    "    return initial_values"
   ]
  },
  {
   "cell_type": "code",
   "execution_count": null,
   "metadata": {},
   "outputs": [],
   "source": [
    "def end_conditions(z_max, initial_guess):\n",
    "    A1=z_max[0]\n",
    "    A2=z_max[1]\n",
    "    Rb1=z_max[2]\n",
    "    Rb2=z_max[3]\n",
    "    Rd1=z_max[4]\n",
    "    Rd2=z_max[5]\n",
    "    I=z_max[6]\n",
    "    \n",
    "    inital_values = np.array([(d/v)*A2,\n",
    "                              (v/d)*A1,\n",
    "                              (d/v)*Rb2,\n",
    "                              (v/d)*Rb1,\n",
    "                              initial_guess,\n",
    "                              0,\n",
    "                              I0])\n",
    "    return initial_values"
   ]
  },
  {
   "cell_type": "code",
   "execution_count": 9,
   "metadata": {},
   "outputs": [],
   "source": [
    "# function of initial guesses\n",
    "def guess_func(z):\n",
    "    \n",
    "    zmax = z[len(z)-1]\n",
    "    mu = z[len(z)-1]/2\n",
    "    sigma2 = np.power(z[len(z)-1]/10,2)\n",
    "    \n",
    "    guess = np.array([np.exp(-np.power((z-mu),2)/sigma2),\n",
    "                      -2*(z-mu)*np.exp(-(z-mu)*(z-mu)/sigma2),\n",
    "                      np.exp(-(z-mu)*(z-mu)/sigma2),\n",
    "                      -2*(z-mu)*np.exp(-(z-mu)*(z-mu)/sigma2),\n",
    "                      0.5*z,\n",
    "                      0.5*np.ones(len(z)),\n",
    "                      I0*np.exp(-kbg*z)])\n",
    "                      \n",
    "    return guess"
   ]
  },
  {
   "cell_type": "code",
   "execution_count": 10,
   "metadata": {},
   "outputs": [],
   "source": [
    "initial_guess_a = np.ones((7,len(z)))\n",
    "initial_guess_b = guess_func(z)\n",
    "\n",
    "y_a = initial_guess_a\n",
    "y_b = initial_guess_b"
   ]
  },
  {
   "cell_type": "code",
   "execution_count": 32,
   "metadata": {},
   "outputs": [
    {
     "name": "stderr",
     "output_type": "stream",
     "text": [
      "/anaconda3/lib/python3.7/site-packages/ipykernel_launcher.py:6: RuntimeWarning: divide by zero encountered in true_divide\n",
      "  \n"
     ]
    },
    {
     "name": "stdout",
     "output_type": "stream",
     "text": [
      "Number of nodes is exceeded after iteration 3, maximum relative residual 5.91e+03.\n",
      "Number of nodes is exceeded after iteration 3, maximum relative residual 9.24e+03.\n"
     ]
    }
   ],
   "source": [
    "# solving bvp with two different initial guesses\n",
    "res_a = solve_bvp(plankton_equations, bc, z, y_a, max_nodes=1000,verbose=1)\n",
    "res_b = solve_bvp(plankton_equations, bc, z, y_b, max_nodes=1000, verbose=1)"
   ]
  },
  {
   "cell_type": "code",
   "execution_count": 57,
   "metadata": {},
   "outputs": [],
   "source": [
    "#help(solve_bvp)"
   ]
  },
  {
   "cell_type": "markdown",
   "metadata": {},
   "source": [
    "     Reason for algorithm termination:\n",
    "    \n",
    "            * 0: The algorithm converged to the desired accuracy.\n",
    "            * 1: The maximum number of mesh nodes is exceeded.\n",
    "            * 2: A singular Jacobian encountered when solving the collocation\n",
    "              system."
   ]
  },
  {
   "cell_type": "code",
   "execution_count": 33,
   "metadata": {},
   "outputs": [
    {
     "name": "stdout",
     "output_type": "stream",
     "text": [
      "convergence status a: 1 \n",
      "convergence status b: 1\n",
      "solver message a: The maximum number of mesh nodes is exceeded. \n",
      "solver message b: The maximum number of mesh nodes is exceeded.\n"
     ]
    }
   ],
   "source": [
    "print(\"convergence status a: {} \\nconvergence status b: {}\".format(res_a.status,res_b.status))\n",
    "print(\"solver message a: {} \\nsolver message b: {}\".format(res_a.message,res_b.message))"
   ]
  },
  {
   "cell_type": "code",
   "execution_count": 34,
   "metadata": {},
   "outputs": [
    {
     "data": {
      "image/png": "[encoded data removed]",
      "text/plain": [
       "<Figure size 432x288 with 1 Axes>"
      ]
     },
     "metadata": {
      "needs_background": "light"
     },
     "output_type": "display_data"
    }
   ],
   "source": [
    "z_plot = np.linspace(0, zmax, 100)\n",
    "y_plot_a = res_a.sol(z_plot)[0]\n",
    "y_plot_b = res_b.sol(z_plot)[0]\n",
    "\n",
    "plt.plot(z_plot, y_plot_a, label='A a', linestyle=':')\n",
    "plt.plot(z_plot, y_plot_b, label='A b', linestyle='-')\n",
    "plt.legend()\n",
    "plt.xlabel(\"z\")\n",
    "plt.ylabel(\"A1\")\n",
    "plt.show()"
   ]
  },
  {
   "cell_type": "code",
   "execution_count": 35,
   "metadata": {},
   "outputs": [
    {
     "data": {
      "image/png": "[encoded data removed]",
      "text/plain": [
       "<Figure size 432x288 with 1 Axes>"
      ]
     },
     "metadata": {
      "needs_background": "light"
     },
     "output_type": "display_data"
    }
   ],
   "source": [
    "z_plot = np.linspace(0, zmax, 100)\n",
    "y_plot_a = res_a.sol(z_plot)[1]\n",
    "y_plot_b = res_b.sol(z_plot)[1]\n",
    "\n",
    "plt.plot(z_plot, y_plot_a, label='dA/dz a')\n",
    "plt.plot(z_plot, y_plot_b, label='dA/dz b')\n",
    "plt.legend()\n",
    "plt.xlabel(\"z\")\n",
    "plt.ylabel(\"A2\")\n",
    "plt.show()"
   ]
  },
  {
   "cell_type": "code",
   "execution_count": 36,
   "metadata": {},
   "outputs": [
    {
     "data": {
      "image/png": "[encoded data removed]",
      "text/plain": [
       "<Figure size 432x288 with 1 Axes>"
      ]
     },
     "metadata": {
      "needs_background": "light"
     },
     "output_type": "display_data"
    }
   ],
   "source": [
    "z_plot = np.linspace(0, zmax, 100)\n",
    "y_plot_a = res_a.sol(z_plot)[2]\n",
    "y_plot_b = res_b.sol(z_plot)[2]\n",
    "\n",
    "plt.plot(z_plot, y_plot_a, label='Rb a')\n",
    "plt.plot(z_plot, y_plot_b, label='Rb b')\n",
    "plt.legend()\n",
    "plt.xlabel(\"z\")\n",
    "plt.ylabel(\"Rb1\")\n",
    "plt.show()"
   ]
  },
  {
   "cell_type": "code",
   "execution_count": 37,
   "metadata": {},
   "outputs": [
    {
     "data": {
      "image/png": "[encoded data removed]",
      "text/plain": [
       "<Figure size 432x288 with 1 Axes>"
      ]
     },
     "metadata": {
      "needs_background": "light"
     },
     "output_type": "display_data"
    }
   ],
   "source": [
    "z_plot = np.linspace(0, zmax, 100)\n",
    "y_plot_a = res_a.sol(z_plot)[3]\n",
    "y_plot_b = res_b.sol(z_plot)[3]\n",
    "\n",
    "plt.plot(z_plot, y_plot_a, label='dRb/dz a')\n",
    "plt.plot(z_plot, y_plot_b, label='dRb/dz b')\n",
    "plt.legend()\n",
    "plt.xlabel(\"z\")\n",
    "plt.ylabel(\"Rb2\")\n",
    "plt.show()"
   ]
  },
  {
   "cell_type": "code",
   "execution_count": 38,
   "metadata": {},
   "outputs": [
    {
     "data": {
      "image/png": "[encoded data removed]",
      "text/plain": [
       "<Figure size 432x288 with 1 Axes>"
      ]
     },
     "metadata": {
      "needs_background": "light"
     },
     "output_type": "display_data"
    }
   ],
   "source": [
    "z_plot = np.linspace(0, zmax, 100)\n",
    "y_plot_a = res_a.sol(z_plot)[4]\n",
    "y_plot_b = res_b.sol(z_plot)[4]\n",
    "\n",
    "plt.plot(z_plot, y_plot_a, label='Rd a')\n",
    "plt.plot(z_plot, y_plot_b, label='Rd b')\n",
    "plt.legend()\n",
    "plt.xlabel(\"z\")\n",
    "plt.ylabel(\"Rd1\")\n",
    "plt.show()"
   ]
  },
  {
   "cell_type": "code",
   "execution_count": 39,
   "metadata": {},
   "outputs": [
    {
     "data": {
      "image/png": "[encoded data removed]",
      "text/plain": [
       "<Figure size 432x288 with 1 Axes>"
      ]
     },
     "metadata": {
      "needs_background": "light"
     },
     "output_type": "display_data"
    }
   ],
   "source": [
    "z_plot = np.linspace(0, zmax, 100)\n",
    "y_plot_a = res_a.sol(z_plot)[5]\n",
    "y_plot_b = res_b.sol(z_plot)[5]\n",
    "\n",
    "plt.plot(z_plot, y_plot_a, label='dRd/dx a')\n",
    "plt.plot(z_plot, y_plot_b, label='dRd/dz b')\n",
    "plt.legend()\n",
    "plt.xlabel(\"z\")\n",
    "plt.ylabel(\"Rd2\")\n",
    "plt.show()"
   ]
  },
  {
   "cell_type": "code",
   "execution_count": 13,
   "metadata": {},
   "outputs": [
    {
     "ename": "NameError",
     "evalue": "name 'res_a' is not defined",
     "output_type": "error",
     "traceback": [
      "\u001b[0;31m---------------------------------------------------------------------------\u001b[0m",
      "\u001b[0;31mNameError\u001b[0m                                 Traceback (most recent call last)",
      "\u001b[0;32m<ipython-input-13-d6371ad08348>\u001b[0m in \u001b[0;36m<module>\u001b[0;34m\u001b[0m\n\u001b[1;32m      1\u001b[0m \u001b[0mz_plot\u001b[0m \u001b[0;34m=\u001b[0m \u001b[0mnp\u001b[0m\u001b[0;34m.\u001b[0m\u001b[0mlinspace\u001b[0m\u001b[0;34m(\u001b[0m\u001b[0;36m0\u001b[0m\u001b[0;34m,\u001b[0m \u001b[0mzmax\u001b[0m\u001b[0;34m,\u001b[0m \u001b[0;36m100\u001b[0m\u001b[0;34m)\u001b[0m\u001b[0;34m\u001b[0m\u001b[0;34m\u001b[0m\u001b[0m\n\u001b[0;32m----> 2\u001b[0;31m \u001b[0my_plot_a\u001b[0m \u001b[0;34m=\u001b[0m \u001b[0mres_a\u001b[0m\u001b[0;34m.\u001b[0m\u001b[0msol\u001b[0m\u001b[0;34m(\u001b[0m\u001b[0mz_plot\u001b[0m\u001b[0;34m)\u001b[0m\u001b[0;34m[\u001b[0m\u001b[0;36m6\u001b[0m\u001b[0;34m]\u001b[0m\u001b[0;34m\u001b[0m\u001b[0;34m\u001b[0m\u001b[0m\n\u001b[0m\u001b[1;32m      3\u001b[0m \u001b[0my_plot_b\u001b[0m \u001b[0;34m=\u001b[0m \u001b[0mres_b\u001b[0m\u001b[0;34m.\u001b[0m\u001b[0msol\u001b[0m\u001b[0;34m(\u001b[0m\u001b[0mz_plot\u001b[0m\u001b[0;34m)\u001b[0m\u001b[0;34m[\u001b[0m\u001b[0;36m6\u001b[0m\u001b[0;34m]\u001b[0m\u001b[0;34m\u001b[0m\u001b[0;34m\u001b[0m\u001b[0m\n\u001b[1;32m      4\u001b[0m \u001b[0;34m\u001b[0m\u001b[0m\n\u001b[1;32m      5\u001b[0m \u001b[0mplt\u001b[0m\u001b[0;34m.\u001b[0m\u001b[0mplot\u001b[0m\u001b[0;34m(\u001b[0m\u001b[0mz_plot\u001b[0m\u001b[0;34m,\u001b[0m \u001b[0my_plot_a\u001b[0m\u001b[0;34m,\u001b[0m \u001b[0mlabel\u001b[0m\u001b[0;34m=\u001b[0m\u001b[0;34m'I a'\u001b[0m\u001b[0;34m)\u001b[0m\u001b[0;34m\u001b[0m\u001b[0;34m\u001b[0m\u001b[0m\n",
      "\u001b[0;31mNameError\u001b[0m: name 'res_a' is not defined"
     ]
    }
   ],
   "source": [
    "z_plot = np.linspace(0, zmax, 100)\n",
    "y_plot_a = res_a.sol(z_plot)[6]\n",
    "y_plot_b = res_b.sol(z_plot)[6]\n",
    "\n",
    "plt.plot(z_plot, y_plot_a, label='I a')\n",
    "plt.plot(z_plot, y_plot_b, label='I b')\n",
    "plt.legend()\n",
    "plt.xlabel(\"z\")\n",
    "plt.ylabel(\"I\")\n",
    "plt.show()"
   ]
  },
  {
   "cell_type": "code",
   "execution_count": null,
   "metadata": {},
   "outputs": [],
   "source": []
  }
 ],
 "metadata": {
  "kernelspec": {
   "display_name": "Python 3",
   "language": "python",
   "name": "python3"
  },
  "language_info": {
   "codemirror_mode": {
    "name": "ipython",
    "version": 3
   },
   "file_extension": ".py",
   "mimetype": "text/x-python",
   "name": "python",
   "nbconvert_exporter": "python",
   "pygments_lexer": "ipython3",
   "version": "3.7.3"
  }
 },
 "nbformat": 4,
 "nbformat_minor": 2
}
