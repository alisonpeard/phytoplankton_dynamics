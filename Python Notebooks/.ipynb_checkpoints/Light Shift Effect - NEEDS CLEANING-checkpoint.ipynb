{
 "cells": [
  {
   "cell_type": "code",
   "execution_count": 1,
   "metadata": {},
   "outputs": [],
   "source": [
    "import numpy as np"
   ]
  },
  {
   "cell_type": "code",
   "execution_count": 2,
   "metadata": {},
   "outputs": [],
   "source": [
    "# define default coefficients\n",
    "v= 0.25    # drift term\n",
    "lbg=0.1    # Specific algal maintenance respiration losses\n",
    "mumax=1.2  # Maximum specific algal production rate\n",
    "rhomax=0.2 # Maximum specific algal nutrient uptake rate\n",
    "qmax=0.04  # Maximum algal nutrient quota\n",
    "qmin=0.004 # Minimum algal nutrient quota \n",
    "m=1.5      # Half-saturation constant of algal nutrient uptake\n",
    "h=120.0    # Half-saturation constant of light-dependent algal production\n",
    "I0 = 300   # Light intensity at the surface \n",
    "kbg=0.4    # Background light-attenuation coefficient - change to 0.02 to see some oscillations? Originally 0.4\n",
    "r = 0.02   # Specific mineralization rate of sedimented nutrients\n",
    "\n",
    "def rnorm(mu,sigma,z):\n",
    "    \"\"\"create normal hump around mu over z, of std. dev. sigma\"\"\"\n",
    "    return np.exp( -(z-mu)**2/(2*sigma**2) )/ np.sqrt(2*np.pi*sigma**2)\n",
    "\n",
    "def I(z,A,I_0=I0,k = 0.0003):\n",
    "    \"\"\"Function to plot I using array A[:,i], default k=0.0003, larger values of k make effect of A on I more apparent\"\"\"\n",
    "    integral = np.zeros(len(z))\n",
    "    integral[1:] = np.cumsum(k*A[1:]) \n",
    "    return I_0 * np.exp( - integral- kbg*z)\n",
    "\n",
    "def p(I,q):\n",
    "    return mumax * (1.0 - qmin/q) * (I/(h + I))\n",
    "\n",
    "def rho(q, Rd):\n",
    "    return rhomax * (qmax-q)/(qmax-qmin) * ( Rd/(m + Rd) )"
   ]
  },
  {
   "cell_type": "code",
   "execution_count": 3,
   "metadata": {},
   "outputs": [],
   "source": [
    "def next_step(z,A, Rb, Rd, Rs,dz,dt,d,I_0=I0):\n",
    "    \"\"\"Calculates next step for input arrays of length zmax\"\"\"\n",
    "    \n",
    "    II = I(z,A,I_0=I_0)\n",
    "    q = Rb[1:-1]/A[1:-1]\n",
    "    pp = p(II[1:-1],q)\n",
    "    rrho = rho(q,Rd[1:-1])\n",
    "    \n",
    "    A_next = np.zeros(len(A))\n",
    "    Rb_next = np.zeros(len(Rb))\n",
    "    Rd_next = np.zeros(len(Rd))\n",
    "    \n",
    "    A_drift = v * (A[2:]-A[:-2]) / (2*dz)\n",
    "    A_diffusion = d * (A[2:]-2*A[1:-1] + A[:-2]) / (dz**2)\n",
    "    Rb_drift = v * (Rb[2:]-Rb[:-2]) / (2*dz)\n",
    "    Rb_diffusion = d * (Rb[2:]-2*Rb[1:-1] + Rb[:-2]) / (dz**2)\n",
    "    Rd_diffusion = d * (Rd[2:]-2*Rd[1:-1] + Rd[:-2]) / (dz**2)\n",
    "    \n",
    "    A_next[1:-1] = A[1:-1] + dt * ( pp*A[1:-1] -lbg*A[1:-1] - A_drift + A_diffusion )\n",
    "    A_next[0] = 4*d/(2*v*dz + 3*d)*A_next[1] - d/(2*v*dz + 3*d)*A_next[2] \n",
    "    A_next[-1] = (4*A_next[-2] - A_next[-3])/3\n",
    "    \n",
    "    Rb_next[1:-1] = Rb[1:-1] + dt * (rrho*A[1:-1] -lbg*Rb[1:-1] - Rb_drift + Rb_diffusion )\n",
    "    Rb_next[0] = 4*d/(2*v*dz + 3*d)*Rb_next[1] - d/(2*v*dz + 3*d)*Rb_next[2] \n",
    "    Rb_next[-1] = (4*Rb_next[-2] - Rb_next[-3])/3\n",
    "    \n",
    "    Rs_next = Rs + dt*(v*Rb[-1] - r*Rs)\n",
    "    \n",
    "    Rd_next[1:-1] = Rd[1:-1] + dt*(lbg*Rb[1:-1] -rrho*A[1:-1] + Rd_diffusion)\n",
    "    Rd_next[0] = (4*Rd_next[1] - Rd_next[2])/3 \n",
    "    Rd_next[-1] = (2*r*dz*Rs_next + 4*d*Rd_next[-2] - d*Rd_next[-3])/(3*d)\n",
    "    \n",
    "    \n",
    "    return A_next, Rb_next, Rd_next, Rs_next\n",
    "    \n"
   ]
  },
  {
   "cell_type": "code",
   "execution_count": 6,
   "metadata": {},
   "outputs": [],
   "source": [
    "def get_light_shift(zmax=30.0, tmax=100.0, d=1.0, I0=300.0, light_shift=0.6):\n",
    "    \"\"\" A, Rb, Rd, Rs, z_grid, time_steps, Nz, Nt = get_light_shift(zmax=30.0, tmax=100.0, d=1.0, I0=300.0, light_shift=0.6) \n",
    "    light_shift such that shift occurs at light_shift*tmax\"\"\"\n",
    "    \n",
    "    dz = 0.1 ## change to 0.02 or ok?\n",
    "    dt = dz/1000 # temporary \n",
    "    Nz = int(zmax/dz)\n",
    "    Nt = int(tmax/ (1000*dt) )\n",
    "\n",
    "    z_grid = np.arange(0,zmax,dz)\n",
    "    time_steps = np.arange(0,tmax,dt)\n",
    "    \n",
    "    shift_loc = int(0.6*len(time_steps))\n",
    "\n",
    "    A_0 = 100 \n",
    "    Rb_0 = 2.2\n",
    "    Rd_0 = 30 \n",
    "    Rs_0 = 0\n",
    "    \n",
    "    A = np.zeros((Nz,Nt)) # RESULTS MATRIX: rows: deeper z-values, cols: time steps forward\n",
    "    A[:,0] = A_0 * np.ones(Nz) # creates homogenous initial conditions\n",
    "    Rb = np.zeros((Nz,Nt))\n",
    "    Rb[:,0] = Rb_0 * np.ones(Nz)\n",
    "    Rd = np.zeros((Nz,Nt))\n",
    "    Rd[:,0] = Rd_0 * np.ones(Nz)\n",
    "    Rs = np.zeros(Nt)\n",
    "    A_next,Rb_next,Rd_next, Rs_next = A[:,0], Rb[:,0], Rd[:,0], Rs[0] #initial conditions\n",
    "\n",
    "    i = 1\n",
    "    counter = 1\n",
    "    for t in time_steps[:shift_loc]:\n",
    "        \n",
    "        A_next, Rb_next, Rd_next, Rs_next = next_step(z_grid, A_next, Rb_next, Rd_next, Rs_next, dz,dt,d)\n",
    "        \n",
    "        if ( i % 1000 == 0):\n",
    "            A[:,counter],Rb[:,counter],Rd[:,counter],Rs[counter] = A_next,Rb_next,Rd_next,Rs_next\n",
    "            counter = counter +1\n",
    "            \n",
    "        i = i+1\n",
    "      \n",
    "    I0_new = I0/2.0\n",
    "    for t in time_steps[shift_loc:-1]:\n",
    "        A_next, Rb_next, Rd_next, Rs_next = next_step(z_grid, A_next, Rb_next, Rd_next, Rs_next, dz,dt,d,I_0=I0_new)\n",
    "        \n",
    "        if ( i % 1000 == 0):\n",
    "            A[:,counter],Rb[:,counter],Rd[:,counter],Rs[counter] = A_next,Rb_next,Rd_next,Rs_next\n",
    "            counter = counter +1\n",
    "            \n",
    "        i = i+1\n",
    "        \n",
    "    return A, Rb, Rd, Rs, z_grid, time_steps, Nz, Nt\n",
    "    "
   ]
  },
  {
   "cell_type": "code",
   "execution_count": null,
   "metadata": {},
   "outputs": [],
   "source": [
    "A, Rb, Rd, Rs, z_grid, time_steps, Nz, Nt = get_light_shift(zmax=30.0, tmax=100.0, d=1.0, I0=300.0, light_shift=0.6)"
   ]
  },
  {
   "cell_type": "code",
   "execution_count": null,
   "metadata": {},
   "outputs": [],
   "source": [
    "tmax = 100\n",
    "zmax = 30\n",
    "import matplotlib.pyplot as plt\n",
    "# Heatmap\n",
    "plt.imshow(A[:,:],aspect=tmax/zmax,origin=\"lower\",extent=(0,tmax,0,zmax))\n",
    "plt.xlabel('days')\n",
    "plt.ylabel('depth (meters)')\n",
    "plt.gca().invert_yaxis()\n",
    "plt.colorbar()"
   ]
  },
  {
   "cell_type": "code",
   "execution_count": null,
   "metadata": {},
   "outputs": [],
   "source": [
    "# 3D Visualize\n",
    "from mpl_toolkits.mplot3d import axes3d\n",
    "#T,Z = np.meshgrid(time_steps,z_grid)\n",
    "#%matplotlib notebook\n",
    "days = np.linspace(0,tmax,Nt)\n",
    "T,Z = np.meshgrid(days,z_grid)\n",
    "\n",
    "fig = plt.figure(figsize=(6,6))\n",
    "ax = fig.add_subplot(111, projection='3d')\n",
    "ax.plot_surface(T,Z, A, cmap='cool')\n",
    "ax.set_xlabel('time (days)')\n",
    "ax.set_ylabel('z (meters)')\n",
    "ax.set_zlabel('C')\n",
    "ax.set_title('A - Phytoplankton')"
   ]
  },
  {
   "cell_type": "code",
   "execution_count": null,
   "metadata": {},
   "outputs": [],
   "source": [
    "A, Rb, Rd, Rs, z_grid, time_steps, Nz, Nt = get_light_shift(zmax=30.0, tmax=200.0, d=1.0, I0=300.0, light_shift=0.6)"
   ]
  },
  {
   "cell_type": "code",
   "execution_count": null,
   "metadata": {},
   "outputs": [],
   "source": [
    "tmax = 200\n",
    "zmax = 30\n",
    "import matplotlib.pyplot as plt\n",
    "# Heatmap\n",
    "plt.imshow(A[:,:],aspect=tmax/zmax,origin=\"lower\",extent=(0,tmax,0,zmax))\n",
    "plt.xlabel('days')\n",
    "plt.ylabel('depth (meters)')\n",
    "plt.gca().invert_yaxis()\n",
    "plt.colorbar()"
   ]
  },
  {
   "cell_type": "code",
   "execution_count": null,
   "metadata": {},
   "outputs": [],
   "source": [
    "# 3D Visualize\n",
    "from mpl_toolkits.mplot3d import axes3d\n",
    "#T,Z = np.meshgrid(time_steps,z_grid)\n",
    "#%matplotlib notebook\n",
    "days = np.linspace(0,tmax,Nt)\n",
    "T,Z = np.meshgrid(days,z_grid)\n",
    "\n",
    "fig = plt.figure(figsize=(6,6))\n",
    "ax = fig.add_subplot(111, projection='3d')\n",
    "ax.plot_surface(T,Z, A, cmap='cool')\n",
    "ax.set_xlabel('time (days)')\n",
    "ax.set_ylabel('z (meters)')\n",
    "ax.set_zlabel('C')\n",
    "ax.set_title('A - Phytoplankton')"
   ]
  },
  {
   "cell_type": "markdown",
   "metadata": {},
   "source": [
    "### create sine plot for seasonality? \n",
    "Sine function like, I0 = 300 for some period of time and zero for other and smooth curve between them, get some temperate climate figures and an equation if possible (?)"
   ]
  },
  {
   "cell_type": "code",
   "execution_count": null,
   "metadata": {},
   "outputs": [],
   "source": []
  }
 ],
 "metadata": {
  "kernelspec": {
   "display_name": "Python 3",
   "language": "python",
   "name": "python3"
  },
  "language_info": {
   "codemirror_mode": {
    "name": "ipython",
    "version": 3
   },
   "file_extension": ".py",
   "mimetype": "text/x-python",
   "name": "python",
   "nbconvert_exporter": "python",
   "pygments_lexer": "ipython3",
   "version": "3.7.3"
  }
 },
 "nbformat": 4,
 "nbformat_minor": 2
}
