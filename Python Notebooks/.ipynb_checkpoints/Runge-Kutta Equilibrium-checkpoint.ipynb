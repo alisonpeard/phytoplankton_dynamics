{
 "cells": [
  {
   "cell_type": "code",
   "execution_count": 40,
   "metadata": {},
   "outputs": [],
   "source": [
    "import numpy as np\n",
    "from scipy.integrate import odeint\n",
    "import matplotlib.pyplot as plt"
   ]
  },
  {
   "cell_type": "markdown",
   "metadata": {},
   "source": [
    "_Treating like an IVP just to get an idea of solutions - not much good_\n",
    "\n",
    "FDM: https://math.stackexchange.com/questions/331656/runge-kutta-4-solving-system-of-6-differential-equations-bvp?rq=1"
   ]
  },
  {
   "cell_type": "code",
   "execution_count": 56,
   "metadata": {},
   "outputs": [],
   "source": [
    "# parameters - make global?\n",
    "k = 0.0003   #Specific light-attenuation coefficient of algal biomass (m2 mg C 1)\n",
    "kbg = 0.4    #Background light-attenuation coefficient (m 1)\n",
    "lbg = 0.1    #Specific algal maintenance respiration losses (day 1)\n",
    "v = 0.25     #Algal sinking velocity (m day 1)\n",
    "d = 10       #Turbulent-diffusion coefficient (m2 day 1)\n",
    "r = 0.02     #Specific mineralization rate of sedimented nutrients (day 1)\n",
    "mumax = 1.2  #Maximum specific algal production rate in all models except the fixed-stoichiometry and light-limitation models (day 1)\n",
    "romax = 0.2  #Maximum specific algal nutrient uptake rate (mg P mg C 1 day 1)\n",
    "qmin = 0.004 #Minimum algal nutrient quota (mg P mg C 1)\n",
    "qmax = 0.04  #Maximum algal nutrient quota (mg P mg C 1)\n",
    "h = 120      #Half-saturation constant of light-dependent algal production (mmol photons m 2 s 1)\n",
    "m = 1.5      #Half-saturation constant of algal nutrient uptake (mg P m 3)\n",
    "\n",
    "z0  = 0\n",
    "zmax = 30    #Depth of water column (m)\n",
    "Z = np.linspace(z0, zmax, 10000)\n",
    "\n",
    "A10 = 100     #Initial conditions at surface\n",
    "A20 = 0\n",
    "Rb10 = 2.2\n",
    "Rb20 = 0\n",
    "Rd10 = 30\n",
    "Rd20 = 0\n",
    "I0 = 300     #Light intensity at the surface (mmol photons m 2 s 1)\n"
   ]
  },
  {
   "cell_type": "code",
   "execution_count": 50,
   "metadata": {},
   "outputs": [],
   "source": [
    "# functions\n",
    "def q(Rb, A):\n",
    "    return Rb/A\n",
    "    \n",
    "def p(I,q, mumax=mumax, qmin=qmin, h=h):\n",
    "    return mumax * (1 - qmin/q) * (I/(h + I))\n",
    "    \n",
    "def ro(q, Rd, romax = romax, qmax = qmax, qmin=qmin, m=m):\n",
    "    return romax * (qmax-q)/(qmax-qmin) * Rd/(m + Rd)"
   ]
  },
  {
   "cell_type": "code",
   "execution_count": 51,
   "metadata": {},
   "outputs": [],
   "source": [
    "surface_conditions = [A10,A20,Rb10,Rb20,Rd10,Rd20,I0]"
   ]
  },
  {
   "cell_type": "code",
   "execution_count": 52,
   "metadata": {},
   "outputs": [],
   "source": [
    "def compute_derivatives(y,v=v,lbg=lbg, d=d,k=k,kbg=kbg):\n",
    "    dy = np.zeros((7,))\n",
    "    A1 = y[0]\n",
    "    A2 = y[1]\n",
    "    Rb1 = y[2]\n",
    "    Rb2 = y[3]\n",
    "    Rd1 = y[4]\n",
    "    Rd2 = y[5]\n",
    "    I = y[6]\n",
    "    q = Rb1/A1\n",
    "    \n",
    "    dy[0] = A2\n",
    "    dy[1] = (v*A2 - p(I,q)*A1 + lbg*A1)/d\n",
    "    dy[2] = Rb2\n",
    "    dy[3] = (v*Rb2 - ro(q,Rd1)*A1 - lbg*Rb1)/d\n",
    "    dy[4] = Rd2\n",
    "    dy[5] = (ro(q,Rd1)*A1 - lbg*Rb1)/d\n",
    "    dy[5] = (k*A1 + kbg)*I\n",
    "    \n",
    "    return dy"
   ]
  },
  {
   "cell_type": "code",
   "execution_count": 72,
   "metadata": {},
   "outputs": [
    {
     "data": {
      "text/plain": [
       "array([  0.        ,  -6.01298701,   0.        ,  -0.97438095,\n",
       "         0.        , 129.        ,   0.        ])"
      ]
     },
     "execution_count": 72,
     "metadata": {},
     "output_type": "execute_result"
    }
   ],
   "source": [
    "compute_derivatives(surface_conditions)"
   ]
  },
  {
   "cell_type": "code",
   "execution_count": 73,
   "metadata": {},
   "outputs": [],
   "source": [
    "# Solve ODE system\n",
    "# Vy = (Vm[t0:tmax], n[t0:tmax], m[t0:tmax], h[t0:tmax])\n",
    "Vz = odeint(compute_derivatives, surface_conditions, Z)"
   ]
  },
  {
   "cell_type": "code",
   "execution_count": 74,
   "metadata": {},
   "outputs": [
    {
     "data": {
      "text/plain": [
       "10000"
      ]
     },
     "execution_count": 74,
     "metadata": {},
     "output_type": "execute_result"
    }
   ],
   "source": [
    "len(Z)"
   ]
  },
  {
   "cell_type": "code",
   "execution_count": 75,
   "metadata": {},
   "outputs": [
    {
     "data": {
      "text/plain": [
       "[<matplotlib.lines.Line2D at 0x1520a7d7f0>]"
      ]
     },
     "execution_count": 75,
     "metadata": {},
     "output_type": "execute_result"
    },
    {
     "data": {
      "image/png": "[encoded data removed]",
      "text/plain": [
       "<Figure size 432x288 with 1 Axes>"
      ]
     },
     "metadata": {
      "needs_background": "light"
     },
     "output_type": "display_data"
    }
   ],
   "source": [
    "plt.plot(Z[:750],Vz[:750,0])"
   ]
  },
  {
   "cell_type": "code",
   "execution_count": null,
   "metadata": {},
   "outputs": [],
   "source": []
  }
 ],
 "metadata": {
  "kernelspec": {
   "display_name": "Python 3",
   "language": "python",
   "name": "python3"
  },
  "language_info": {
   "codemirror_mode": {
    "name": "ipython",
    "version": 3
   },
   "file_extension": ".py",
   "mimetype": "text/x-python",
   "name": "python",
   "nbconvert_exporter": "python",
   "pygments_lexer": "ipython3",
   "version": "3.7.3"
  }
 },
 "nbformat": 4,
 "nbformat_minor": 2
}
