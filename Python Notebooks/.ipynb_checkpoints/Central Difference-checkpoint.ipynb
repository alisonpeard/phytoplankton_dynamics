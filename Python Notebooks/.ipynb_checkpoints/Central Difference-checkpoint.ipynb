{
 "cells": [
  {
   "cell_type": "code",
   "execution_count": 1,
   "metadata": {},
   "outputs": [],
   "source": [
    "import numpy as np\n",
    "import pandas as pd\n",
    "import matplotlib.pyplot as plt"
   ]
  },
  {
   "cell_type": "code",
   "execution_count": 2,
   "metadata": {},
   "outputs": [],
   "source": [
    "v=0.25\n",
    "lbg=0.1\n",
    "k=0.0003\n",
    "kbg=0.4\n",
    "I0=300.0\n",
    "mumax=1.2\n",
    "rhomax=0.2\n",
    "m=15.0\n",
    "qmax=0.04\n",
    "qmin=0.004\n",
    "h=120.0\n",
    "d=10.0\n",
    "# Redfield ratio = 0.022 for q\n",
    "\n",
    "zmax = 10.0\n",
    "dz = 1.0\n",
    "dt = dz**2/40 # change this\n",
    "\n",
    "z_grid = np.arange(0,zmax,dz)\n",
    "A = np.ones(int(zmax/dz))*300\n",
    "Rb = np.ones(int(zmax/dz))*2.2\n",
    "Rd = np.ones(int(zmax/dz))*30\n",
    "I = np.ones(int(zmax/dz))*I0\n",
    "\n",
    "def p(I,q):\n",
    "    return mumax * (1.0 - qmin/q) * (I/(h + I))\n",
    "\n",
    "def rho(q, Rd):\n",
    "    return rhomax * (qmax-q)/(qmax-qmin) * ( Rd/(m + Rd) )"
   ]
  },
  {
   "cell_type": "code",
   "execution_count": 3,
   "metadata": {},
   "outputs": [
    {
     "data": {
      "text/plain": [
       "0.025"
      ]
     },
     "execution_count": 3,
     "metadata": {},
     "output_type": "execute_result"
    }
   ],
   "source": [
    "# check - dt must be much smaller than dz for stability, try to get expression later?\n",
    "dt/dz**2"
   ]
  },
  {
   "cell_type": "code",
   "execution_count": 4,
   "metadata": {},
   "outputs": [
    {
     "data": {
      "text/plain": [
       "[<matplotlib.lines.Line2D at 0x1219a43c8>]"
      ]
     },
     "execution_count": 4,
     "metadata": {},
     "output_type": "execute_result"
    },
    {
     "data": {
      "image/png": "[encoded data removed]",
      "text/plain": [
       "<Figure size 432x288 with 1 Axes>"
      ]
     },
     "metadata": {
      "needs_background": "light"
     },
     "output_type": "display_data"
    }
   ],
   "source": [
    "plt.plot(z_grid,A)"
   ]
  },
  {
   "cell_type": "code",
   "execution_count": 5,
   "metadata": {},
   "outputs": [
    {
     "ename": "NameError",
     "evalue": "name 'next_A' is not defined",
     "output_type": "error",
     "traceback": [
      "\u001b[0;31m---------------------------------------------------------------------------\u001b[0m",
      "\u001b[0;31mNameError\u001b[0m                                 Traceback (most recent call last)",
      "\u001b[0;32m<ipython-input-5-d958ab610e29>\u001b[0m in \u001b[0;36m<module>\u001b[0;34m\u001b[0m\n\u001b[0;32m----> 1\u001b[0;31m \u001b[0mz_next\u001b[0m\u001b[0;34m,\u001b[0m \u001b[0mA_next\u001b[0m \u001b[0;34m=\u001b[0m \u001b[0mnext_A\u001b[0m\u001b[0;34m(\u001b[0m\u001b[0mz_grid\u001b[0m\u001b[0;34m,\u001b[0m\u001b[0mA\u001b[0m\u001b[0;34m,\u001b[0m\u001b[0mRb\u001b[0m\u001b[0;34m,\u001b[0m\u001b[0mRd\u001b[0m\u001b[0;34m,\u001b[0m\u001b[0mI\u001b[0m\u001b[0;34m)\u001b[0m\u001b[0;34m\u001b[0m\u001b[0;34m\u001b[0m\u001b[0m\n\u001b[0m\u001b[1;32m      2\u001b[0m \u001b[0mplt\u001b[0m\u001b[0;34m.\u001b[0m\u001b[0mplot\u001b[0m\u001b[0;34m(\u001b[0m\u001b[0mz_grid\u001b[0m\u001b[0;34m,\u001b[0m\u001b[0mA_next\u001b[0m\u001b[0;34m)\u001b[0m\u001b[0;34m\u001b[0m\u001b[0;34m\u001b[0m\u001b[0m\n",
      "\u001b[0;31mNameError\u001b[0m: name 'next_A' is not defined"
     ]
    }
   ],
   "source": [
    "z_next, A_next = next_A(z_grid,A,Rb,Rd,I)\n",
    "plt.plot(z_grid,A_next)"
   ]
  },
  {
   "cell_type": "code",
   "execution_count": 59,
   "metadata": {},
   "outputs": [],
   "source": [
    "def next_step(z,A,Rb,Rd,I):\n",
    "    \"\"\"For testing.\"\"\"\n",
    "    \n",
    "    A_next = np.zeros(len(A))\n",
    "    Rb_next = np.zeros(len(A))\n",
    "    Rd_next =np.zeros(len(A))\n",
    "    I_next = np.zeros(len(A))\n",
    "    \n",
    "    q = Rb[1:-1]/A[1:-1]\n",
    "    pp = p(I[1:-1],q)\n",
    "    rrho = rho(q,Rd[1:-1])\n",
    "    \n",
    "    A_next[1:-1] = dt*(d/(dz**2) - v/(2*dz))*A[2:] \\\n",
    "    + (1 + dt*pp - dt*lbg - 2*dt*d/(dz**2))*A[1:-1] \\\n",
    "    + dt*(d/(dz**2)- v/(2*dz))*A[:-2]\n",
    "    A_next[0] = 4*d/(2*v*dz + 3*d)*A_next[1] - d/(2*v*dz + 3*d)*A_next[2]\n",
    "    A_next[-1] = (4*A_next[-2] - A_next[-3])/3\n",
    "    \n",
    "    Rb_next[1:-1] = dt*(d/(dz**2) - v/(2*dz))*Rb[2:] \\\n",
    "    + (1 - dt*lbg - 2*dt*d/(dz**2))*Rb[1:-1] \\\n",
    "    + dt*(d/(dz**2) - v/(2*dz))*Rb[:-2] + dt*rrho*A[1:-1]\n",
    "    Rb_next[0] = 4*d/(2*v*dz + 3*d)*Rb_next[1] - d/(2*v*dz + 3*d)*Rb_next[2]\n",
    "    Rb_next[-1] = (4*Rb_next[-2] - Rb_next[-3])/3\n",
    "    \n",
    "    Rd_next[1:-1] = d*dt/(dz**2)*Rd[2:] \\\n",
    "    + (1 - 2*dt*d/(dz**2))*Rd[1:-1] \\\n",
    "    + d*dt/(dz**2)*Rd[:-2] \\\n",
    "    - dt*rrho*A[1:-1] + dt*lbg*Rb[1:-1]\n",
    "    Rd_next[0] = 4*Rd[1]/3 - Rd[2]/3\n",
    "    Rd_next[-1] = -Rd[-3]/3 + 4*Rd[-2]/3 - 2*v*dz*Rb[-1]/(3*d)\n",
    "    \n",
    "    I_next[1:] = -(dt*k*A[1:] + dt*kbg*z[1:] - 1)*I[1:]\n",
    "    I_next[0] = I0\n",
    "    \n",
    "    return z, A_next, Rb_next, Rd_next, I_next"
   ]
  },
  {
   "cell_type": "code",
   "execution_count": 60,
   "metadata": {},
   "outputs": [
    {
     "data": {
      "text/plain": [
       "(array([0., 1., 2., 3., 4., 5., 6., 7., 8., 9.]),\n",
       " array([295.37417501, 300.29707792, 300.29707792, 300.29707792,\n",
       "        300.29707792, 300.29707792, 300.29707792, 300.29707792,\n",
       "        300.29707792, 300.29707792]),\n",
       " array([3.03753188, 3.08815741, 3.08815741, 3.08815741, 3.08815741,\n",
       "        3.08815741, 3.08815741, 3.08815741, 3.08815741, 3.08815741]),\n",
       " array([30.        , 29.09809259, 29.09809259, 29.09809259, 29.09809259,\n",
       "        29.09809259, 29.09809259, 29.09809259, 29.09809259, 29.96333333]),\n",
       " array([300.   , 296.325, 293.325, 290.325, 287.325, 284.325, 281.325,\n",
       "        278.325, 275.325, 272.325]))"
      ]
     },
     "execution_count": 60,
     "metadata": {},
     "output_type": "execute_result"
    }
   ],
   "source": [
    "next_step(z_grid,A,Rb,Rd,I)"
   ]
  },
  {
   "cell_type": "code",
   "execution_count": 57,
   "metadata": {},
   "outputs": [],
   "source": [
    "def next_I(z,A,Rb,Rd,I):\n",
    "    \n",
    "    I_next = np.zeros(len(A)) \n",
    "    q = Rb[1:-1]/A[1:-1]\n",
    "    pp = p(I[1:-1],q)\n",
    "    rrho = rho(q,Rd[1:-1])\n",
    "    \n",
    "    I_next[1:] = -(dt*k*A[1:] + dt*kbg*z[1:] - 1)*I[1:]\n",
    "    I_next[0] = I0\n",
    "    \n",
    "    return z, I_next"
   ]
  },
  {
   "cell_type": "code",
   "execution_count": 58,
   "metadata": {},
   "outputs": [
    {
     "data": {
      "text/plain": [
       "(array([0., 1., 2., 3., 4., 5., 6., 7., 8., 9.]),\n",
       " array([300.   , 296.325, 293.325, 290.325, 287.325, 284.325, 281.325,\n",
       "        278.325, 275.325, 272.325]))"
      ]
     },
     "execution_count": 58,
     "metadata": {},
     "output_type": "execute_result"
    }
   ],
   "source": [
    "next_I(z_grid,A,Rb,Rd,I)"
   ]
  },
  {
   "cell_type": "code",
   "execution_count": null,
   "metadata": {},
   "outputs": [],
   "source": []
  },
  {
   "cell_type": "code",
   "execution_count": null,
   "metadata": {},
   "outputs": [],
   "source": []
  },
  {
   "cell_type": "markdown",
   "metadata": {},
   "source": [
    "# Final Code"
   ]
  },
  {
   "cell_type": "code",
   "execution_count": 26,
   "metadata": {},
   "outputs": [],
   "source": [
    "def next_step_old(A,Rb,Rd,I):\n",
    "    \"\"\" A,Rb,Rd & I arrays of length z_max/delta_z. Need to check if BCs right or if should be using FDM on them too.\"\"\"\n",
    "    # check all arrays same length\n",
    "    \n",
    "    A_next = Rb_next = Rd_next = I_next = np.zeros(len(A))\n",
    "\n",
    "    q = Rd[1:-1]/A[1:-1]\n",
    "    pp = p(I[1:-1],q)\n",
    "    rrho = rho(q,Rd[1:-1])\n",
    "\n",
    "\n",
    "    A_next[1:-1] = dt*(d/(dz**2) - v/(2*dz))*A[2:] \\\n",
    "    + (1 + dt*pp - dt*lbg - 2*dt*d/(dz**2)*A[1:-1]) \\\n",
    "    + dt*(d/(dz**2)- v/(2*dz))*A[:-2]\n",
    "    A_next[0] = 4*d/(2*v*dz - 3*d)*A_next[1] - 1/(2*v*dz - 3*d)*A_next[2]\n",
    "    A_next[-1] = (4*A_next[-2] - A_next[-3])/3\n",
    "                    \n",
    "    Rb_next[-1:1] = dt*(d/(dz**2) - v/(2*dz))*Rb[2:] \\\n",
    "    + (1 - dt*lbg - 2*dt*d/(dz**2))*Rb[1:-1] \\\n",
    "    + dt*(d/(dz**2) - v/(2*dz))*Rb[:-2] \\\n",
    "    + dt*rrho*A[1:-1]\n",
    "    Rb_next[0] = 4*d/(2*v*dz - 3*d)*Rb_next[1] - 1/(2*v*dz - 3*d)*Rb_next[2]\n",
    "    Rb_next[-1] = (4*Rb_next[-2] - Rb_next[-3])/3\n",
    "                                      \n",
    "    Rd_next[-1:1] = d*dt/(dz**2)*Rd[2:] \\\n",
    "    + (-1 - 2*dt*d/(dz**2))*Rd[1:-1] \\\n",
    "    + d*dt/(dz**2)*Rd[:-2] \\\n",
    "    - dt*rrho*A[1:-1] + lbg*Rb[1:-1]\n",
    "    Rd_next[0] = -3*Rd[0] + 4*Rd[1] - Rd[2]\n",
    "    Rd_next[-1] = -d*Rd[-3] + 4*d*Rd[-2] - 3*d*Rd[-1] - v*Rb[0]\n",
    "    \n",
    "    return A_next, Rb_next\n",
    "    "
   ]
  },
  {
   "cell_type": "code",
   "execution_count": 17,
   "metadata": {},
   "outputs": [],
   "source": [
    "q = Rd[1:-1]/A[1:-1]\n",
    "pp = p(I[1:-1],q)\n",
    "rrho = rho(q,Rd[1:-1])"
   ]
  },
  {
   "cell_type": "code",
   "execution_count": 18,
   "metadata": {},
   "outputs": [],
   "source": [
    "A_next[1:-1] = dt*(d/(dz**2) - v/(2*dz))*A[2:] \\\n",
    "+ (1 + dt*pp - dt*lbg - 2*dt*d/(dz**2)*A[1:-1]) \\\n",
    "+ dt*(d/(dz**2)- v/(2*dz))*A[:-2]\n",
    "A_next[0] = 4*d/(2*v*dz - 3*d)*A_next[1] - 1/(2*v*dz - 3*d)*A_next[2]\n",
    "A_next[-1] = (4*A_next[-2] - A_next[-3])/3"
   ]
  },
  {
   "cell_type": "code",
   "execution_count": 19,
   "metadata": {},
   "outputs": [
    {
     "data": {
      "text/plain": [
       "array([ 1,  2,  3,  4,  5,  6,  7,  8,  9, 10])"
      ]
     },
     "execution_count": 19,
     "metadata": {},
     "output_type": "execute_result"
    }
   ],
   "source": [
    "A"
   ]
  },
  {
   "cell_type": "code",
   "execution_count": 20,
   "metadata": {},
   "outputs": [
    {
     "data": {
      "text/plain": [
       "array([-0.56286734,  0.41959344,  0.17915122, -0.06144516, -0.302192  ,\n",
       "       -0.54308571, -0.78412283, -1.0253    , -1.26661395, -1.34705194])"
      ]
     },
     "execution_count": 20,
     "metadata": {},
     "output_type": "execute_result"
    }
   ],
   "source": [
    "A_next"
   ]
  },
  {
   "cell_type": "code",
   "execution_count": 21,
   "metadata": {},
   "outputs": [
    {
     "data": {
      "text/plain": [
       "array([-0.62745098, -0.88888889, -1.12280702, -1.33333333, -1.52380952,\n",
       "       -1.6969697 , -1.85507246, -2.        ])"
      ]
     },
     "execution_count": 21,
     "metadata": {},
     "output_type": "execute_result"
    }
   ],
   "source": [
    "rrho"
   ]
  },
  {
   "cell_type": "code",
   "execution_count": null,
   "metadata": {},
   "outputs": [],
   "source": []
  }
 ],
 "metadata": {
  "kernelspec": {
   "display_name": "Python 3",
   "language": "python",
   "name": "python3"
  },
  "language_info": {
   "codemirror_mode": {
    "name": "ipython",
    "version": 3
   },
   "file_extension": ".py",
   "mimetype": "text/x-python",
   "name": "python",
   "nbconvert_exporter": "python",
   "pygments_lexer": "ipython3",
   "version": "3.7.3"
  }
 },
 "nbformat": 4,
 "nbformat_minor": 2
}
