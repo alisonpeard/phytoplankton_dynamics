{
 "cells": [
  {
   "cell_type": "code",
   "execution_count": null,
   "metadata": {},
   "outputs": [],
   "source": [
    "I_0 = 300.0\n",
    "\n",
    "zmax=30\n",
    "dz=0.1\n",
    "z_grid = np.arange(0,zmax,dz) # make sure get_stationary has dz=0.1\n",
    "Nz=len(z_grid)\n",
    "\n",
    "dmax = 10\n",
    "dmin = 0.1\n",
    "dstep = 0.05\n",
    "drange=dmax-dmin\n",
    "d_vals=np.arange(0.1,10,0.05)\n",
    "Nd = len(d_vals)"
   ]
  },
  {
   "cell_type": "code",
   "execution_count": null,
   "metadata": {},
   "outputs": [],
   "source": [
    "stationary_A = np.zeros((Nz,Nd)) \n",
    "stationary_Rb = np.zeros((Nz,Nd))\n",
    "stationary_Rd = np.zeros((Nz,Nd))\n",
    "stationary_Rs = np.zeros(Nd)"
   ]
  },
  {
   "cell_type": "code",
   "execution_count": null,
   "metadata": {},
   "outputs": [],
   "source": [
    "i = 0\n",
    "for d in d_vals:\n",
    "    stationary_A[:,i], stationary_Rb[:,i], stationary_Rd[:,i], stationary_Rs[i] = get_stationary(zmax=zmax,tmax=tmax, d=d, I0=I_0, dz=dz)\n",
    "    i += 1"
   ]
  },
  {
   "cell_type": "code",
   "execution_count": null,
   "metadata": {},
   "outputs": [],
   "source": [
    "# Heatmap\n",
    "plt.imshow(stationary_A[:,:],aspect=tmax/drange,origin=\"lower\",extent=(0,tmax,dmin,dmax))\n",
    "plt.xlabel('d-values')\n",
    "plt.ylabel('stationary distribution for A')\n",
    "plt.gca().invert_yaxis()\n",
    "plt.colorbar()"
   ]
  },
  {
   "cell_type": "code",
   "execution_count": null,
   "metadata": {},
   "outputs": [],
   "source": [
    "#%matplotlib notebook\n",
    "\n",
    "D,Z = np.meshgrid(dvals,z_grid)\n",
    "\n",
    "fig = plt.figure(figsize=(6,6))\n",
    "ax = fig.add_subplot(111, projection='3d')\n",
    "ax.plot_surface(D,Z, stationary_A, cmap='cool')\n",
    "ax.set_xlabel('time (days)')\n",
    "ax.set_ylabel('z (meters)')\n",
    "ax.set_zlabel('C')\n",
    "ax.set_title('A - plankton')"
   ]
  },
  {
   "cell_type": "code",
   "execution_count": null,
   "metadata": {},
   "outputs": [],
   "source": []
  }
 ],
 "metadata": {
  "kernelspec": {
   "display_name": "Python 3",
   "language": "python",
   "name": "python3"
  },
  "language_info": {
   "codemirror_mode": {
    "name": "ipython",
    "version": 3
   },
   "file_extension": ".py",
   "mimetype": "text/x-python",
   "name": "python",
   "nbconvert_exporter": "python",
   "pygments_lexer": "ipython3",
   "version": "3.7.3"
  }
 },
 "nbformat": 4,
 "nbformat_minor": 2
}
