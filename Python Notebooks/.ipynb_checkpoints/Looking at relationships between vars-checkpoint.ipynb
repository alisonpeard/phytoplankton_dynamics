{
 "cells": [
  {
   "cell_type": "code",
   "execution_count": null,
   "metadata": {},
   "outputs": [],
   "source": [
    "import numpy as np\n",
    "import sympy as sym\n",
    "import matplotlib.pyplot as plt\n",
    "sym.init_printing(use_latex=\"mathjax\")\n",
    "from ipywidgets import interact"
   ]
  },
  {
   "cell_type": "code",
   "execution_count": null,
   "metadata": {},
   "outputs": [],
   "source": [
    "v=0.25\n",
    "lbg=0.1\n",
    "k=0.0003\n",
    "kbg=0.4\n",
    "I0=300\n",
    "mumax=1.2\n",
    "romax=0.2\n",
    "m=15\n",
    "qmax=0.04\n",
    "qmin=0.004\n",
    "h=120\n",
    "d=10\n",
    "\n",
    "\n",
    "N=10000\n",
    "zmax = 30\n",
    "z = np.linspace(0,zmax,N)    # (start,stop, number of nodes)\n",
    "\n",
    "Rd1_guess = 30               # as specified\n",
    "A1_guess = 100\n",
    "Rb1_guess = A1_guess/350\n",
    "\n",
    "A1,Rb1,Rd1 = sym.symbols('A1 Rb1 Rd1')\n",
    "\n",
    "Rb1_guess"
   ]
  }
 ],
 "metadata": {
  "kernelspec": {
   "display_name": "Python 3",
   "language": "python",
   "name": "python3"
  },
  "language_info": {
   "codemirror_mode": {
    "name": "ipython",
    "version": 3
   },
   "file_extension": ".py",
   "mimetype": "text/x-python",
   "name": "python",
   "nbconvert_exporter": "python",
   "pygments_lexer": "ipython3",
   "version": "3.7.3"
  }
 },
 "nbformat": 4,
 "nbformat_minor": 2
}
