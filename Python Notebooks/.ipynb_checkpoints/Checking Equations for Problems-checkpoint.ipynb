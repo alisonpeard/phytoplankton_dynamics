{
 "cells": [
  {
   "cell_type": "markdown",
   "metadata": {},
   "source": [
    "# Making sure total nutrients remains constant in the system"
   ]
  },
  {
   "cell_type": "code",
   "execution_count": 3,
   "metadata": {},
   "outputs": [],
   "source": [
    "from progress_bar import log_progress\n",
    "from my_equations import next_step\n",
    "import numpy as np\n",
    "import matplotlib.pyplot as plt"
   ]
  },
  {
   "cell_type": "code",
   "execution_count": null,
   "metadata": {},
   "outputs": [
    {
     "data": {
      "application/vnd.jupyter.widget-view+json": {
       "model_id": "add054a788134b9ea4ccd2f4c2050daa",
       "version_major": 2,
       "version_minor": 0
      },
      "text/plain": [
       "VBox(children=(HTML(value=''), IntProgress(value=0, max=999999)))"
      ]
     },
     "metadata": {},
     "output_type": "display_data"
    }
   ],
   "source": [
    "zmax = 10\n",
    "tmax = 100\n",
    "\n",
    "d = 10\n",
    "dz = 0.1\n",
    "dt = dz/1000\n",
    "Nz = int(zmax/dz)\n",
    "Nt = int(tmax/ (1000*dt) )\n",
    "\n",
    "z_grid = np.arange(0,zmax,dz)\n",
    "time_steps = np.arange(0,tmax,dt)\n",
    "\n",
    "A_0 = 100 \n",
    "Rb_0 = 2.2\n",
    "Rd_0 = 30 \n",
    "Rs_0 = 0\n",
    "R_0 = Rb_0 + Rd_0 + Rs_0\n",
    "\n",
    "# RESULTS MATRICES: rows: deeper z-values, cols: time steps forward\n",
    "A = np.zeros((Nz,Nt))\n",
    "Rb = np.zeros((Nz,Nt))\n",
    "Rd = np.zeros((Nz,Nt))\n",
    "Rs = np.zeros(Nt)\n",
    "R = np.zeros((Nz,Nt))\n",
    "\n",
    "# Create homogenous initial conditions with values as specified in Jaeger et al. 2010\n",
    "A[:,0] = A_0 * np.ones(Nz) \n",
    "Rb[:,0] = Rb_0 * np.ones(Nz)\n",
    "Rd[:,0] = Rd_0 * np.ones(Nz)\n",
    "R[:,0] = R_0 * np.ones(Nz)\n",
    "\n",
    "\n",
    "# begin loop\n",
    "A_next,Rb_next,Rd_next, Rs_next = A[:,0], Rb[:,0], Rd[:,0], Rs[0]\n",
    "i = 1\n",
    "counter = 1\n",
    "\n",
    "for t in log_progress(time_steps[:-1],every=1):\n",
    "    A_next, Rb_next, Rd_next, Rs_next = next_step(z_grid, A_next, Rb_next, Rd_next, Rs_next, dz ,dt ,d)\n",
    "\n",
    "    # Record every 1000th value\n",
    "    if ( i % 1000 == 0):\n",
    "        A[:,counter],Rb[:,counter],Rd[:,counter],Rs[counter] = A_next,Rb_next,Rd_next,Rs_next\n",
    "        R[:,counter] = Rb[:,counter] + Rd[:,counter] + Rs[counter]\n",
    "        counter += 1\n",
    "\n",
    "    i += 1\n",
    "\n"
   ]
  },
  {
   "cell_type": "code",
   "execution_count": null,
   "metadata": {},
   "outputs": [],
   "source": [
    "from mpl_toolkits.mplot3d import axes3d\n",
    "# 3D Visualize\n",
    "\n",
    "#%matplotlib notebook\n",
    "days = np.linspace(0,tmax,Nt)\n",
    "T,Z = np.meshgrid(days,z_grid)\n",
    "\n",
    "fig = plt.figure(figsize=(6,6))\n",
    "ax = fig.add_subplot(111, projection='3d')\n",
    "ax.plot_surface(T,Z, R, cmap='cool')\n",
    "ax.set_xlabel('time (days)')\n",
    "ax.set_ylabel('z (meters)')\n",
    "ax.set_zlabel('C')\n",
    "ax.set_title('R - Total Nutrients')"
   ]
  },
  {
   "cell_type": "code",
   "execution_count": null,
   "metadata": {},
   "outputs": [],
   "source": [
    "from mpl_toolkits.mplot3d import axes3d\n",
    "# 3D Visualize\n",
    "\n",
    "#%matplotlib notebook\n",
    "days = np.linspace(0,tmax,Nt)\n",
    "T,Z = np.meshgrid(days,z_grid)\n",
    "\n",
    "fig = plt.figure(figsize=(6,6))\n",
    "ax = fig.add_subplot(111, projection='3d')\n",
    "ax.plot_surface(T,Z, A, cmap='cool')\n",
    "ax.set_xlabel('time (days)')\n",
    "ax.set_ylabel('z (meters)')\n",
    "ax.set_zlabel('C')\n",
    "ax.set_title('A - Total Nutrients')"
   ]
  },
  {
   "cell_type": "code",
   "execution_count": null,
   "metadata": {},
   "outputs": [],
   "source": [
    "from mpl_toolkits.mplot3d import axes3d\n",
    "# 3D Visualize\n",
    "\n",
    "#%matplotlib notebook\n",
    "days = np.linspace(0,tmax,Nt)\n",
    "T,Z = np.meshgrid(days,z_grid)\n",
    "\n",
    "fig = plt.figure(figsize=(6,6))\n",
    "ax = fig.add_subplot(111, projection='3d')\n",
    "ax.plot_surface(T,Z, Rb, cmap='cool')\n",
    "ax.set_xlabel('time (days)')\n",
    "ax.set_ylabel('z (meters)')\n",
    "ax.set_zlabel('C')\n",
    "ax.set_title('Rb - Total Nutrients')"
   ]
  },
  {
   "cell_type": "code",
   "execution_count": null,
   "metadata": {},
   "outputs": [],
   "source": [
    "from mpl_toolkits.mplot3d import axes3d\n",
    "# 3D Visualize\n",
    "\n",
    "#%matplotlib notebook\n",
    "days = np.linspace(0,tmax,Nt)\n",
    "T,Z = np.meshgrid(days,z_grid)\n",
    "\n",
    "fig = plt.figure(figsize=(6,6))\n",
    "ax = fig.add_subplot(111, projection='3d')\n",
    "ax.plot_surface(T,Z, Rd, cmap='cool')\n",
    "ax.set_xlabel('time (days)')\n",
    "ax.set_ylabel('z (meters)')\n",
    "ax.set_zlabel('C')\n",
    "ax.set_title('Rd - Total Nutrients')"
   ]
  },
  {
   "cell_type": "code",
   "execution_count": null,
   "metadata": {},
   "outputs": [],
   "source": [
    "plt.plot(days,Rs)"
   ]
  },
  {
   "cell_type": "code",
   "execution_count": null,
   "metadata": {},
   "outputs": [],
   "source": []
  }
 ],
 "metadata": {
  "kernelspec": {
   "display_name": "Python 3",
   "language": "python",
   "name": "python3"
  },
  "language_info": {
   "codemirror_mode": {
    "name": "ipython",
    "version": 3
   },
   "file_extension": ".py",
   "mimetype": "text/x-python",
   "name": "python",
   "nbconvert_exporter": "python",
   "pygments_lexer": "ipython3",
   "version": "3.7.3"
  }
 },
 "nbformat": 4,
 "nbformat_minor": 2
}
