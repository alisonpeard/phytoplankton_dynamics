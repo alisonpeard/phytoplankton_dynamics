{
 "cells": [
  {
   "cell_type": "code",
   "execution_count": 1,
   "metadata": {},
   "outputs": [],
   "source": [
    "import numpy as np\n",
    "import pandas as pd\n",
    "import matplotlib.pyplot as plt"
   ]
  },
  {
   "cell_type": "code",
   "execution_count": 131,
   "metadata": {},
   "outputs": [],
   "source": [
    "v=0.25\n",
    "lbg=0.1\n",
    "k=0.0003\n",
    "kbg=0.4\n",
    "I0=300.0\n",
    "mumax=1.2\n",
    "rhomax=0.2\n",
    "m=15.0\n",
    "qmax=0.04\n",
    "qmin=0.004\n",
    "h=120.0\n",
    "d=10.0\n",
    "# Redfield ratio = 0.022 for q\n",
    "\n",
    "zmax = 30.0\n",
    "tmax = 10.0\n",
    "dz = 1.0\n",
    "dt = dz**2/40 # change this\n"
   ]
  },
  {
   "cell_type": "code",
   "execution_count": 132,
   "metadata": {},
   "outputs": [
    {
     "data": {
      "text/plain": [
       "(30, 400)"
      ]
     },
     "execution_count": 132,
     "metadata": {},
     "output_type": "execute_result"
    }
   ],
   "source": [
    "# assuming homogeneous initial conditions over z\n",
    "z_grid = np.arange(0,zmax,dz)\n",
    "time_steps = np.arange(0,tmax,dt)\n",
    "\n",
    "A_0 = np.ones(int(zmax/dz))*300\n",
    "Rb_0 = np.ones(int(zmax/dz))*2.2\n",
    "Rd_0 = np.ones(int(zmax/dz))*30\n",
    "I_0 = np.ones(int(zmax/dz))*I0\n",
    "\n",
    "# define results of matrices\n",
    "# rows - deeper z-values, cols - time steps forward\n",
    "A = np.zeros((int(zmax/dz),int(tmax/dt)))\n",
    "Rb = np.zeros((int(zmax/dz),int(tmax/dt)))\n",
    "Rd = np.zeros((int(zmax/dz),int(tmax/dt)))\n",
    "I = np.zeros((int(zmax/dz),int(tmax/dt)))\n",
    "\n",
    "A[:,0] = A_0\n",
    "Rb[:,0] = Rb_0\n",
    "Rd[:,0] = Rd_0\n",
    "I[:,0] = I_0\n",
    "\n",
    "A.shape"
   ]
  },
  {
   "cell_type": "code",
   "execution_count": 133,
   "metadata": {},
   "outputs": [
    {
     "data": {
      "text/plain": [
       "(400,)"
      ]
     },
     "execution_count": 133,
     "metadata": {},
     "output_type": "execute_result"
    }
   ],
   "source": [
    "time_steps.shape"
   ]
  },
  {
   "cell_type": "code",
   "execution_count": 134,
   "metadata": {},
   "outputs": [
    {
     "data": {
      "text/plain": [
       "(30,)"
      ]
     },
     "execution_count": 134,
     "metadata": {},
     "output_type": "execute_result"
    }
   ],
   "source": [
    "z_grid.shape"
   ]
  },
  {
   "cell_type": "code",
   "execution_count": 135,
   "metadata": {},
   "outputs": [],
   "source": [
    "def p(I,q):\n",
    "    return mumax * (1.0 - qmin/q) * (I/(h + I))\n",
    "\n",
    "def rho(q, Rd):\n",
    "    return rhomax * (qmax-q)/(qmax-qmin) * ( Rd/(m + Rd) )"
   ]
  },
  {
   "cell_type": "code",
   "execution_count": 136,
   "metadata": {},
   "outputs": [
    {
     "data": {
      "text/plain": [
       "0.025"
      ]
     },
     "execution_count": 136,
     "metadata": {},
     "output_type": "execute_result"
    }
   ],
   "source": [
    "# check - dt must be much smaller than dz for stability (try to get exact expression later? ) \n",
    "dt/dz**2"
   ]
  },
  {
   "cell_type": "code",
   "execution_count": 137,
   "metadata": {},
   "outputs": [],
   "source": [
    "def next_step(z,A,Rb,Rd,I):\n",
    "    \"\"\"For testing.\"\"\"\n",
    "    \n",
    "    A_next = np.zeros(len(A))\n",
    "    Rb_next = np.zeros(len(A))\n",
    "    Rd_next =np.zeros(len(A))\n",
    "    I_next = np.zeros(len(A))\n",
    "    \n",
    "    q = Rb[1:-1]/A[1:-1]\n",
    "    pp = p(I[1:-1],q)\n",
    "    rrho = rho(q,Rd[1:-1])\n",
    "    \n",
    "    A_next[1:-1] = dt*(d/(dz**2) - v/(2*dz))*A[2:] \\\n",
    "    + (1 + dt*pp - dt*lbg - 2*dt*d/(dz**2))*A[1:-1] \\\n",
    "    + dt*(d/(dz**2)- v/(2*dz))*A[:-2]\n",
    "    A_next[0] = 4*d/(2*v*dz + 3*d)*A_next[1] - d/(2*v*dz + 3*d)*A_next[2]\n",
    "    A_next[-1] = (4*A_next[-2] - A_next[-3])/3\n",
    "    \n",
    "    Rb_next[1:-1] = dt*(d/(dz**2) - v/(2*dz))*Rb[2:] \\\n",
    "    + (1 - dt*lbg - 2*dt*d/(dz**2))*Rb[1:-1] \\\n",
    "    + dt*(d/(dz**2) - v/(2*dz))*Rb[:-2] + dt*rrho*A[1:-1]\n",
    "    Rb_next[0] = 4*d/(2*v*dz + 3*d)*Rb_next[1] - d/(2*v*dz + 3*d)*Rb_next[2]\n",
    "    Rb_next[-1] = (4*Rb_next[-2] - Rb_next[-3])/3\n",
    "    \n",
    "    Rd_next[1:-1] = d*dt/(dz**2)*Rd[2:] \\\n",
    "    + (1 - 2*dt*d/(dz**2))*Rd[1:-1] \\\n",
    "    + d*dt/(dz**2)*Rd[:-2] \\\n",
    "    - dt*rrho*A[1:-1] + dt*lbg*Rb[1:-1]\n",
    "    Rd_next[0] = 4*Rd[1]/3 - Rd[2]/3\n",
    "    Rd_next[-1] = -Rd[-3]/3 + 4*Rd[-2]/3 - 2*v*dz*Rb[-1]/(3*d)\n",
    "    \n",
    "    I_next[1:] = -(dt*k*A[1:] + dt*kbg*z[1:] - 1)*I[1:]\n",
    "    I_next[0] = I0\n",
    "    \n",
    "    return A_next, Rb_next, Rd_next, I_next"
   ]
  },
  {
   "cell_type": "code",
   "execution_count": 139,
   "metadata": {},
   "outputs": [
    {
     "data": {
      "text/plain": [
       "array([ 0.,  1.,  2.,  3.,  4.,  5.,  6.,  7.,  8.,  9., 10., 11., 12.,\n",
       "       13., 14., 15., 16., 17., 18., 19., 20., 21., 22., 23., 24., 25.,\n",
       "       26., 27., 28., 29.])"
      ]
     },
     "execution_count": 139,
     "metadata": {},
     "output_type": "execute_result"
    }
   ],
   "source": [
    "z_grid"
   ]
  },
  {
   "cell_type": "code",
   "execution_count": 140,
   "metadata": {},
   "outputs": [],
   "source": [
    "i = 1\n",
    "for t in time_steps[:-1]:\n",
    "    A[:,i],Rb[:,i],Rd[:,i],I[:,i] = next_step(z_grid,A[:,i-1],Rb[:,i-1],Rd[:,i-1],I[:,i-1])\n",
    "    i = i+1"
   ]
  },
  {
   "cell_type": "code",
   "execution_count": 141,
   "metadata": {},
   "outputs": [
    {
     "data": {
      "text/plain": [
       "[<matplotlib.lines.Line2D at 0x1186ffa90>]"
      ]
     },
     "execution_count": 141,
     "metadata": {},
     "output_type": "execute_result"
    },
    {
     "data": {
      "image/png": "[encoded data removed]",
      "text/plain": [
       "<Figure size 432x288 with 1 Axes>"
      ]
     },
     "metadata": {
      "needs_background": "light"
     },
     "output_type": "display_data"
    }
   ],
   "source": [
    "plt.plot(z_grid,A[:,-1])"
   ]
  },
  {
   "cell_type": "code",
   "execution_count": 142,
   "metadata": {},
   "outputs": [
    {
     "data": {
      "text/plain": [
       "[<matplotlib.lines.Line2D at 0x1189555f8>]"
      ]
     },
     "execution_count": 142,
     "metadata": {},
     "output_type": "execute_result"
    },
    {
     "data": {
      "image/png": "[encoded data removed]",
      "text/plain": [
       "<Figure size 432x288 with 1 Axes>"
      ]
     },
     "metadata": {
      "needs_background": "light"
     },
     "output_type": "display_data"
    }
   ],
   "source": [
    "plt.plot(z_grid,Rb[:,-1])"
   ]
  },
  {
   "cell_type": "code",
   "execution_count": 143,
   "metadata": {},
   "outputs": [
    {
     "data": {
      "text/plain": [
       "[<matplotlib.lines.Line2D at 0x1188b8278>]"
      ]
     },
     "execution_count": 143,
     "metadata": {},
     "output_type": "execute_result"
    },
    {
     "data": {
      "image/png": "[encoded data removed]",
      "text/plain": [
       "<Figure size 432x288 with 1 Axes>"
      ]
     },
     "metadata": {
      "needs_background": "light"
     },
     "output_type": "display_data"
    }
   ],
   "source": [
    "plt.plot(z_grid,Rd[:,-1])"
   ]
  },
  {
   "cell_type": "code",
   "execution_count": 144,
   "metadata": {},
   "outputs": [
    {
     "data": {
      "text/plain": [
       "[<matplotlib.lines.Line2D at 0x118b02518>]"
      ]
     },
     "execution_count": 144,
     "metadata": {},
     "output_type": "execute_result"
    },
    {
     "data": {
      "image/png": "[encoded data removed]",
      "text/plain": [
       "<Figure size 432x288 with 1 Axes>"
      ]
     },
     "metadata": {
      "needs_background": "light"
     },
     "output_type": "display_data"
    }
   ],
   "source": [
    "plt.plot(z_grid,I[:,-1])"
   ]
  },
  {
   "cell_type": "code",
   "execution_count": null,
   "metadata": {},
   "outputs": [],
   "source": []
  },
  {
   "cell_type": "code",
   "execution_count": null,
   "metadata": {},
   "outputs": [],
   "source": []
  }
 ],
 "metadata": {
  "kernelspec": {
   "display_name": "Python 3",
   "language": "python",
   "name": "python3"
  },
  "language_info": {
   "codemirror_mode": {
    "name": "ipython",
    "version": 3
   },
   "file_extension": ".py",
   "mimetype": "text/x-python",
   "name": "python",
   "nbconvert_exporter": "python",
   "pygments_lexer": "ipython3",
   "version": "3.7.3"
  }
 },
 "nbformat": 4,
 "nbformat_minor": 2
}
